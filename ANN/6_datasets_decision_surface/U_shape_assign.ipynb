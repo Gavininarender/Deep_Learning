{
  "cells": [
    {
      "cell_type": "code",
      "execution_count": null,
      "id": "1e2bdd34",
      "metadata": {
        "id": "1e2bdd34"
      },
      "outputs": [],
      "source": [
        "#pip install mlxtend"
      ]
    },
    {
      "cell_type": "code",
      "execution_count": null,
      "id": "0526ae20",
      "metadata": {
        "id": "0526ae20"
      },
      "outputs": [],
      "source": [
        "import numpy as np\n",
        "import pandas as pd\n",
        "import seaborn as sns\n",
        "import matplotlib.pyplot as plt\n",
        "from sklearn.model_selection import train_test_split\n",
        "from sklearn.preprocessing import StandardScaler\n",
        "import keras\n",
        "from keras import Sequential\n",
        "from keras.layers import Dense\n",
        "from keras.regularizers import L1,L2,L1L2\n",
        "from keras.optimizers import SGD\n",
        "\n",
        "\n",
        "from mlxtend.plotting import plot_decision_regions"
      ]
    },
    {
      "cell_type": "code",
      "execution_count": null,
      "id": "13f07c2f",
      "metadata": {
        "id": "13f07c2f"
      },
      "outputs": [],
      "source": [
        "# used for decision space for 2D\n",
        "\n",
        "# X in 2D -- ARRAY FORMAT\n",
        "# y in 1D -- int , array"
      ]
    },
    {
      "cell_type": "code",
      "execution_count": null,
      "id": "3ad78b49",
      "metadata": {
        "id": "3ad78b49"
      },
      "outputs": [],
      "source": [
        "# df = pd.read_csv(r\"C:\\Users\\hp\\Downloads\\Data Science Innomatics\\DS written notes\\Deep_learning\\DL_Assignments\\1.ushape.csv\", header = None)"
      ]
    },
    {
      "cell_type": "code",
      "source": [
        "df = pd.read_csv(r\"/content/1.ushape.csv\",header = None)"
      ],
      "metadata": {
        "id": "6xUZf3ddSeFK"
      },
      "id": "6xUZf3ddSeFK",
      "execution_count": null,
      "outputs": []
    },
    {
      "cell_type": "code",
      "execution_count": null,
      "id": "792b129e",
      "metadata": {
        "colab": {
          "base_uri": "https://localhost:8080/",
          "height": 206
        },
        "id": "792b129e",
        "outputId": "0becd31d-ebd5-4938-b4d3-741ff57446c5"
      },
      "outputs": [
        {
          "output_type": "execute_result",
          "data": {
            "text/plain": [
              "          0         1    2\n",
              "0  0.031595  0.986988  0.0\n",
              "1  2.115098 -0.046244  1.0\n",
              "2  0.882490 -0.075756  0.0\n",
              "3 -0.055144 -0.037332  1.0\n",
              "4  0.829545 -0.539321  1.0"
            ],
            "text/html": [
              "\n",
              "  <div id=\"df-9286f639-cf32-4474-a6a6-b4c7a172e2f4\" class=\"colab-df-container\">\n",
              "    <div>\n",
              "<style scoped>\n",
              "    .dataframe tbody tr th:only-of-type {\n",
              "        vertical-align: middle;\n",
              "    }\n",
              "\n",
              "    .dataframe tbody tr th {\n",
              "        vertical-align: top;\n",
              "    }\n",
              "\n",
              "    .dataframe thead th {\n",
              "        text-align: right;\n",
              "    }\n",
              "</style>\n",
              "<table border=\"1\" class=\"dataframe\">\n",
              "  <thead>\n",
              "    <tr style=\"text-align: right;\">\n",
              "      <th></th>\n",
              "      <th>0</th>\n",
              "      <th>1</th>\n",
              "      <th>2</th>\n",
              "    </tr>\n",
              "  </thead>\n",
              "  <tbody>\n",
              "    <tr>\n",
              "      <th>0</th>\n",
              "      <td>0.031595</td>\n",
              "      <td>0.986988</td>\n",
              "      <td>0.0</td>\n",
              "    </tr>\n",
              "    <tr>\n",
              "      <th>1</th>\n",
              "      <td>2.115098</td>\n",
              "      <td>-0.046244</td>\n",
              "      <td>1.0</td>\n",
              "    </tr>\n",
              "    <tr>\n",
              "      <th>2</th>\n",
              "      <td>0.882490</td>\n",
              "      <td>-0.075756</td>\n",
              "      <td>0.0</td>\n",
              "    </tr>\n",
              "    <tr>\n",
              "      <th>3</th>\n",
              "      <td>-0.055144</td>\n",
              "      <td>-0.037332</td>\n",
              "      <td>1.0</td>\n",
              "    </tr>\n",
              "    <tr>\n",
              "      <th>4</th>\n",
              "      <td>0.829545</td>\n",
              "      <td>-0.539321</td>\n",
              "      <td>1.0</td>\n",
              "    </tr>\n",
              "  </tbody>\n",
              "</table>\n",
              "</div>\n",
              "    <div class=\"colab-df-buttons\">\n",
              "\n",
              "  <div class=\"colab-df-container\">\n",
              "    <button class=\"colab-df-convert\" onclick=\"convertToInteractive('df-9286f639-cf32-4474-a6a6-b4c7a172e2f4')\"\n",
              "            title=\"Convert this dataframe to an interactive table.\"\n",
              "            style=\"display:none;\">\n",
              "\n",
              "  <svg xmlns=\"http://www.w3.org/2000/svg\" height=\"24px\" viewBox=\"0 -960 960 960\">\n",
              "    <path d=\"M120-120v-720h720v720H120Zm60-500h600v-160H180v160Zm220 220h160v-160H400v160Zm0 220h160v-160H400v160ZM180-400h160v-160H180v160Zm440 0h160v-160H620v160ZM180-180h160v-160H180v160Zm440 0h160v-160H620v160Z\"/>\n",
              "  </svg>\n",
              "    </button>\n",
              "\n",
              "  <style>\n",
              "    .colab-df-container {\n",
              "      display:flex;\n",
              "      gap: 12px;\n",
              "    }\n",
              "\n",
              "    .colab-df-convert {\n",
              "      background-color: #E8F0FE;\n",
              "      border: none;\n",
              "      border-radius: 50%;\n",
              "      cursor: pointer;\n",
              "      display: none;\n",
              "      fill: #1967D2;\n",
              "      height: 32px;\n",
              "      padding: 0 0 0 0;\n",
              "      width: 32px;\n",
              "    }\n",
              "\n",
              "    .colab-df-convert:hover {\n",
              "      background-color: #E2EBFA;\n",
              "      box-shadow: 0px 1px 2px rgba(60, 64, 67, 0.3), 0px 1px 3px 1px rgba(60, 64, 67, 0.15);\n",
              "      fill: #174EA6;\n",
              "    }\n",
              "\n",
              "    .colab-df-buttons div {\n",
              "      margin-bottom: 4px;\n",
              "    }\n",
              "\n",
              "    [theme=dark] .colab-df-convert {\n",
              "      background-color: #3B4455;\n",
              "      fill: #D2E3FC;\n",
              "    }\n",
              "\n",
              "    [theme=dark] .colab-df-convert:hover {\n",
              "      background-color: #434B5C;\n",
              "      box-shadow: 0px 1px 3px 1px rgba(0, 0, 0, 0.15);\n",
              "      filter: drop-shadow(0px 1px 2px rgba(0, 0, 0, 0.3));\n",
              "      fill: #FFFFFF;\n",
              "    }\n",
              "  </style>\n",
              "\n",
              "    <script>\n",
              "      const buttonEl =\n",
              "        document.querySelector('#df-9286f639-cf32-4474-a6a6-b4c7a172e2f4 button.colab-df-convert');\n",
              "      buttonEl.style.display =\n",
              "        google.colab.kernel.accessAllowed ? 'block' : 'none';\n",
              "\n",
              "      async function convertToInteractive(key) {\n",
              "        const element = document.querySelector('#df-9286f639-cf32-4474-a6a6-b4c7a172e2f4');\n",
              "        const dataTable =\n",
              "          await google.colab.kernel.invokeFunction('convertToInteractive',\n",
              "                                                    [key], {});\n",
              "        if (!dataTable) return;\n",
              "\n",
              "        const docLinkHtml = 'Like what you see? Visit the ' +\n",
              "          '<a target=\"_blank\" href=https://colab.research.google.com/notebooks/data_table.ipynb>data table notebook</a>'\n",
              "          + ' to learn more about interactive tables.';\n",
              "        element.innerHTML = '';\n",
              "        dataTable['output_type'] = 'display_data';\n",
              "        await google.colab.output.renderOutput(dataTable, element);\n",
              "        const docLink = document.createElement('div');\n",
              "        docLink.innerHTML = docLinkHtml;\n",
              "        element.appendChild(docLink);\n",
              "      }\n",
              "    </script>\n",
              "  </div>\n",
              "\n",
              "\n",
              "<div id=\"df-5dd8138f-f45c-47ff-8bbe-21329ecd3b6c\">\n",
              "  <button class=\"colab-df-quickchart\" onclick=\"quickchart('df-5dd8138f-f45c-47ff-8bbe-21329ecd3b6c')\"\n",
              "            title=\"Suggest charts.\"\n",
              "            style=\"display:none;\">\n",
              "\n",
              "<svg xmlns=\"http://www.w3.org/2000/svg\" height=\"24px\"viewBox=\"0 0 24 24\"\n",
              "     width=\"24px\">\n",
              "    <g>\n",
              "        <path d=\"M19 3H5c-1.1 0-2 .9-2 2v14c0 1.1.9 2 2 2h14c1.1 0 2-.9 2-2V5c0-1.1-.9-2-2-2zM9 17H7v-7h2v7zm4 0h-2V7h2v10zm4 0h-2v-4h2v4z\"/>\n",
              "    </g>\n",
              "</svg>\n",
              "  </button>\n",
              "\n",
              "<style>\n",
              "  .colab-df-quickchart {\n",
              "      --bg-color: #E8F0FE;\n",
              "      --fill-color: #1967D2;\n",
              "      --hover-bg-color: #E2EBFA;\n",
              "      --hover-fill-color: #174EA6;\n",
              "      --disabled-fill-color: #AAA;\n",
              "      --disabled-bg-color: #DDD;\n",
              "  }\n",
              "\n",
              "  [theme=dark] .colab-df-quickchart {\n",
              "      --bg-color: #3B4455;\n",
              "      --fill-color: #D2E3FC;\n",
              "      --hover-bg-color: #434B5C;\n",
              "      --hover-fill-color: #FFFFFF;\n",
              "      --disabled-bg-color: #3B4455;\n",
              "      --disabled-fill-color: #666;\n",
              "  }\n",
              "\n",
              "  .colab-df-quickchart {\n",
              "    background-color: var(--bg-color);\n",
              "    border: none;\n",
              "    border-radius: 50%;\n",
              "    cursor: pointer;\n",
              "    display: none;\n",
              "    fill: var(--fill-color);\n",
              "    height: 32px;\n",
              "    padding: 0;\n",
              "    width: 32px;\n",
              "  }\n",
              "\n",
              "  .colab-df-quickchart:hover {\n",
              "    background-color: var(--hover-bg-color);\n",
              "    box-shadow: 0 1px 2px rgba(60, 64, 67, 0.3), 0 1px 3px 1px rgba(60, 64, 67, 0.15);\n",
              "    fill: var(--button-hover-fill-color);\n",
              "  }\n",
              "\n",
              "  .colab-df-quickchart-complete:disabled,\n",
              "  .colab-df-quickchart-complete:disabled:hover {\n",
              "    background-color: var(--disabled-bg-color);\n",
              "    fill: var(--disabled-fill-color);\n",
              "    box-shadow: none;\n",
              "  }\n",
              "\n",
              "  .colab-df-spinner {\n",
              "    border: 2px solid var(--fill-color);\n",
              "    border-color: transparent;\n",
              "    border-bottom-color: var(--fill-color);\n",
              "    animation:\n",
              "      spin 1s steps(1) infinite;\n",
              "  }\n",
              "\n",
              "  @keyframes spin {\n",
              "    0% {\n",
              "      border-color: transparent;\n",
              "      border-bottom-color: var(--fill-color);\n",
              "      border-left-color: var(--fill-color);\n",
              "    }\n",
              "    20% {\n",
              "      border-color: transparent;\n",
              "      border-left-color: var(--fill-color);\n",
              "      border-top-color: var(--fill-color);\n",
              "    }\n",
              "    30% {\n",
              "      border-color: transparent;\n",
              "      border-left-color: var(--fill-color);\n",
              "      border-top-color: var(--fill-color);\n",
              "      border-right-color: var(--fill-color);\n",
              "    }\n",
              "    40% {\n",
              "      border-color: transparent;\n",
              "      border-right-color: var(--fill-color);\n",
              "      border-top-color: var(--fill-color);\n",
              "    }\n",
              "    60% {\n",
              "      border-color: transparent;\n",
              "      border-right-color: var(--fill-color);\n",
              "    }\n",
              "    80% {\n",
              "      border-color: transparent;\n",
              "      border-right-color: var(--fill-color);\n",
              "      border-bottom-color: var(--fill-color);\n",
              "    }\n",
              "    90% {\n",
              "      border-color: transparent;\n",
              "      border-bottom-color: var(--fill-color);\n",
              "    }\n",
              "  }\n",
              "</style>\n",
              "\n",
              "  <script>\n",
              "    async function quickchart(key) {\n",
              "      const quickchartButtonEl =\n",
              "        document.querySelector('#' + key + ' button');\n",
              "      quickchartButtonEl.disabled = true;  // To prevent multiple clicks.\n",
              "      quickchartButtonEl.classList.add('colab-df-spinner');\n",
              "      try {\n",
              "        const charts = await google.colab.kernel.invokeFunction(\n",
              "            'suggestCharts', [key], {});\n",
              "      } catch (error) {\n",
              "        console.error('Error during call to suggestCharts:', error);\n",
              "      }\n",
              "      quickchartButtonEl.classList.remove('colab-df-spinner');\n",
              "      quickchartButtonEl.classList.add('colab-df-quickchart-complete');\n",
              "    }\n",
              "    (() => {\n",
              "      let quickchartButtonEl =\n",
              "        document.querySelector('#df-5dd8138f-f45c-47ff-8bbe-21329ecd3b6c button');\n",
              "      quickchartButtonEl.style.display =\n",
              "        google.colab.kernel.accessAllowed ? 'block' : 'none';\n",
              "    })();\n",
              "  </script>\n",
              "</div>\n",
              "    </div>\n",
              "  </div>\n"
            ]
          },
          "metadata": {},
          "execution_count": 7
        }
      ],
      "source": [
        "df.head()"
      ]
    },
    {
      "cell_type": "code",
      "execution_count": null,
      "id": "a484236a",
      "metadata": {
        "id": "a484236a"
      },
      "outputs": [],
      "source": [
        "x = df.iloc[:,0:2]\n",
        "y = df.iloc[:,2].astype(int)"
      ]
    },
    {
      "cell_type": "code",
      "execution_count": null,
      "id": "8134c748",
      "metadata": {
        "colab": {
          "base_uri": "https://localhost:8080/"
        },
        "id": "8134c748",
        "outputId": "6dccd445-f825-4be5-8fdd-a87e61b8b83c"
      },
      "outputs": [
        {
          "output_type": "execute_result",
          "data": {
            "text/plain": [
              "(100, 2)"
            ]
          },
          "metadata": {},
          "execution_count": 9
        }
      ],
      "source": [
        "x.shape"
      ]
    },
    {
      "cell_type": "code",
      "execution_count": null,
      "id": "6bd186f6",
      "metadata": {
        "colab": {
          "base_uri": "https://localhost:8080/"
        },
        "id": "6bd186f6",
        "outputId": "ddb19f8b-4180-42cf-9e30-38971290b5d0"
      },
      "outputs": [
        {
          "output_type": "execute_result",
          "data": {
            "text/plain": [
              "(100,)"
            ]
          },
          "metadata": {},
          "execution_count": 10
        }
      ],
      "source": [
        "y.shape"
      ]
    },
    {
      "cell_type": "code",
      "execution_count": null,
      "id": "f2f58920",
      "metadata": {
        "colab": {
          "base_uri": "https://localhost:8080/",
          "height": 466
        },
        "id": "f2f58920",
        "outputId": "c8d3e642-ff06-4fb8-85ce-5277902fb6e7"
      },
      "outputs": [
        {
          "output_type": "execute_result",
          "data": {
            "text/plain": [
              "<Axes: xlabel='0', ylabel='1'>"
            ]
          },
          "metadata": {},
          "execution_count": 11
        },
        {
          "output_type": "display_data",
          "data": {
            "text/plain": [
              "<Figure size 640x480 with 1 Axes>"
            ],
            "image/png": "[encoded data removed]"
          },
          "metadata": {}
        }
      ],
      "source": [
        "sns.scatterplot(data = df, x=0,y=1, hue = 2)"
      ]
    },
    {
      "cell_type": "code",
      "execution_count": null,
      "id": "7c0aaa16",
      "metadata": {
        "id": "7c0aaa16"
      },
      "outputs": [],
      "source": [
        "x_train,x_test,y_train,y_test = train_test_split(x,y, test_size = 0.1, random_state = 0)"
      ]
    },
    {
      "cell_type": "code",
      "execution_count": null,
      "id": "bd7ac545",
      "metadata": {
        "colab": {
          "base_uri": "https://localhost:8080/"
        },
        "id": "bd7ac545",
        "outputId": "b452faa8-eee9-436b-afba-6b95552ea499"
      },
      "outputs": [
        {
          "output_type": "stream",
          "name": "stdout",
          "text": [
            "(90, 2) (10, 2) (90,) (10,)\n"
          ]
        }
      ],
      "source": [
        "print(x_train.shape,x_test.shape,y_train.shape,y_test.shape)"
      ]
    },
    {
      "cell_type": "code",
      "execution_count": null,
      "id": "34ba7511",
      "metadata": {
        "id": "34ba7511"
      },
      "outputs": [],
      "source": [
        "std = StandardScaler()\n",
        "x_trainp = std.fit_transform(x_train)\n",
        "x_testp = std.transform(x_test)"
      ]
    },
    {
      "cell_type": "code",
      "execution_count": null,
      "id": "13da244c",
      "metadata": {
        "id": "13da244c"
      },
      "outputs": [],
      "source": [
        "model=Sequential()\n",
        "model.add(Dense(16,activation=\"tanh\",kernel_regularizer=L2(0.001),bias_regularizer=L2(0.001),input_dim=2))\n",
        "model.add(Dense(10,activation=\"tanh\",kernel_regularizer=L2(0.001),bias_regularizer=L2(0.001)))\n",
        "model.add(Dense(8,activation=\"tanh\",kernel_regularizer=L2(0.001),bias_regularizer=L2(0.001)))\n",
        "model.add(Dense(4,activation=\"tanh\",kernel_regularizer=L2(0.001),bias_regularizer=L2(0.001)))\n",
        "model.add(Dense(1,activation=\"sigmoid\",kernel_regularizer=L2(0.001),bias_regularizer=L2(0.001)))"
      ]
    },
    {
      "cell_type": "code",
      "execution_count": null,
      "id": "ee1565f8",
      "metadata": {
        "colab": {
          "base_uri": "https://localhost:8080/"
        },
        "id": "ee1565f8",
        "outputId": "6fb9ac48-6037-4e21-cf81-fba0a7589e55"
      },
      "outputs": [
        {
          "output_type": "stream",
          "name": "stdout",
          "text": [
            "Model: \"sequential\"\n",
            "_________________________________________________________________\n",
            " Layer (type)                Output Shape              Param #   \n",
            "=================================================================\n",
            " dense (Dense)               (None, 16)                48        \n",
            "                                                                 \n",
            " dense_1 (Dense)             (None, 10)                170       \n",
            "                                                                 \n",
            " dense_2 (Dense)             (None, 8)                 88        \n",
            "                                                                 \n",
            " dense_3 (Dense)             (None, 4)                 36        \n",
            "                                                                 \n",
            " dense_4 (Dense)             (None, 1)                 5         \n",
            "                                                                 \n",
            "=================================================================\n",
            "Total params: 347 (1.36 KB)\n",
            "Trainable params: 347 (1.36 KB)\n",
            "Non-trainable params: 0 (0.00 Byte)\n",
            "_________________________________________________________________\n"
          ]
        }
      ],
      "source": [
        "model.summary()"
      ]
    },
    {
      "cell_type": "code",
      "execution_count": null,
      "id": "c41514a2",
      "metadata": {
        "colab": {
          "base_uri": "https://localhost:8080/"
        },
        "id": "c41514a2",
        "outputId": "5f302844-8785-4597-ac44-82e26a2011cf"
      },
      "outputs": [
        {
          "output_type": "stream",
          "name": "stdout",
          "text": [
            "Epoch 1/20\n",
            "17/17 [==============================] - 7s 28ms/step - loss: 0.5352 - accuracy: 0.7901 - val_loss: 0.3197 - val_accuracy: 0.8889\n",
            "Epoch 2/20\n",
            "17/17 [==============================] - 0s 7ms/step - loss: 0.4338 - accuracy: 0.8642 - val_loss: 0.3182 - val_accuracy: 0.8889\n",
            "Epoch 3/20\n",
            "17/17 [==============================] - 0s 6ms/step - loss: 0.4269 - accuracy: 0.8272 - val_loss: 0.2415 - val_accuracy: 1.0000\n",
            "Epoch 4/20\n",
            "17/17 [==============================] - 0s 6ms/step - loss: 0.4135 - accuracy: 0.8272 - val_loss: 0.2393 - val_accuracy: 0.8889\n",
            "Epoch 5/20\n",
            "17/17 [==============================] - 0s 7ms/step - loss: 0.4113 - accuracy: 0.8642 - val_loss: 0.2721 - val_accuracy: 0.8889\n",
            "Epoch 6/20\n",
            "17/17 [==============================] - 0s 6ms/step - loss: 0.3851 - accuracy: 0.8765 - val_loss: 0.2141 - val_accuracy: 1.0000\n",
            "Epoch 7/20\n",
            "17/17 [==============================] - 0s 6ms/step - loss: 0.3866 - accuracy: 0.9012 - val_loss: 0.1863 - val_accuracy: 1.0000\n",
            "Epoch 8/20\n",
            "17/17 [==============================] - 0s 6ms/step - loss: 0.3729 - accuracy: 0.8765 - val_loss: 0.2557 - val_accuracy: 0.8889\n",
            "Epoch 9/20\n",
            "17/17 [==============================] - 0s 7ms/step - loss: 0.3951 - accuracy: 0.8272 - val_loss: 0.1982 - val_accuracy: 0.8889\n",
            "Epoch 10/20\n",
            "17/17 [==============================] - 0s 7ms/step - loss: 0.3639 - accuracy: 0.8642 - val_loss: 0.1731 - val_accuracy: 1.0000\n",
            "Epoch 11/20\n",
            "17/17 [==============================] - 0s 6ms/step - loss: 0.3375 - accuracy: 0.8642 - val_loss: 0.1980 - val_accuracy: 1.0000\n",
            "Epoch 12/20\n",
            "17/17 [==============================] - 0s 6ms/step - loss: 0.3224 - accuracy: 0.9136 - val_loss: 0.2217 - val_accuracy: 0.8889\n",
            "Epoch 13/20\n",
            "17/17 [==============================] - 0s 6ms/step - loss: 0.3425 - accuracy: 0.8889 - val_loss: 0.2302 - val_accuracy: 1.0000\n",
            "Epoch 14/20\n",
            "17/17 [==============================] - 0s 6ms/step - loss: 0.2951 - accuracy: 0.9012 - val_loss: 0.1214 - val_accuracy: 1.0000\n",
            "Epoch 15/20\n",
            "17/17 [==============================] - 0s 7ms/step - loss: 0.3043 - accuracy: 0.8889 - val_loss: 0.6945 - val_accuracy: 0.6667\n",
            "Epoch 16/20\n",
            "17/17 [==============================] - 0s 7ms/step - loss: 0.3541 - accuracy: 0.8765 - val_loss: 0.1117 - val_accuracy: 1.0000\n",
            "Epoch 17/20\n",
            "17/17 [==============================] - 0s 7ms/step - loss: 0.2674 - accuracy: 0.9259 - val_loss: 0.1580 - val_accuracy: 1.0000\n",
            "Epoch 18/20\n",
            "17/17 [==============================] - 0s 6ms/step - loss: 0.2461 - accuracy: 0.9506 - val_loss: 0.1057 - val_accuracy: 1.0000\n",
            "Epoch 19/20\n",
            "17/17 [==============================] - 0s 7ms/step - loss: 0.2207 - accuracy: 0.9383 - val_loss: 0.1684 - val_accuracy: 1.0000\n",
            "Epoch 20/20\n",
            "17/17 [==============================] - 0s 6ms/step - loss: 0.2253 - accuracy: 0.9259 - val_loss: 0.1251 - val_accuracy: 1.0000\n"
          ]
        }
      ],
      "source": [
        "model.compile(loss=\"binary_crossentropy\",optimizer=SGD(learning_rate=0.1),metrics=[\"accuracy\"])\n",
        "\n",
        "history=model.fit(x_trainp,y_train,batch_size=5,epochs=20,validation_split=0.1)"
      ]
    },
    {
      "cell_type": "code",
      "execution_count": null,
      "id": "e6994f6b",
      "metadata": {
        "colab": {
          "base_uri": "https://localhost:8080/",
          "height": 447
        },
        "id": "e6994f6b",
        "outputId": "e8528fdd-46e7-4e73-a259-1f73f31641da"
      },
      "outputs": [
        {
          "output_type": "execute_result",
          "data": {
            "text/plain": [
              "<matplotlib.legend.Legend at 0x7fa14cb16410>"
            ]
          },
          "metadata": {},
          "execution_count": 18
        },
        {
          "output_type": "display_data",
          "data": {
            "text/plain": [
              "<Figure size 640x480 with 1 Axes>"
            ],
            "image/png": "[encoded data removed]"
          },
          "metadata": {}
        }
      ],
      "source": [
        "plt.plot(range(1,21),history.history[\"loss\"],label=\"training\")\n",
        "plt.plot(range(1,21),history.history[\"val_loss\"],label=\"validation\")\n",
        "plt.legend()"
      ]
    },
    {
      "cell_type": "code",
      "execution_count": null,
      "id": "fd4f7d44",
      "metadata": {
        "colab": {
          "base_uri": "https://localhost:8080/",
          "height": 465
        },
        "id": "fd4f7d44",
        "outputId": "7d36a51a-d1d4-41f4-8d4f-d6c6b2d8889a"
      },
      "outputs": [
        {
          "output_type": "stream",
          "name": "stdout",
          "text": [
            "9600/9600 [==============================] - 17s 2ms/step\n"
          ]
        },
        {
          "output_type": "execute_result",
          "data": {
            "text/plain": [
              "<Axes: >"
            ]
          },
          "metadata": {},
          "execution_count": 19
        },
        {
          "output_type": "display_data",
          "data": {
            "text/plain": [
              "<Figure size 640x480 with 1 Axes>"
            ],
            "image/png": "[encoded data removed]"
          },
          "metadata": {}
        }
      ],
      "source": [
        "plot_decision_regions(x_trainp,y_train.values,clf=model)"
      ]
    },
    {
      "cell_type": "code",
      "execution_count": null,
      "id": "42cb4d8a",
      "metadata": {
        "colab": {
          "base_uri": "https://localhost:8080/",
          "height": 465
        },
        "id": "42cb4d8a",
        "outputId": "793abed6-e929-40a4-b8a3-48ac2d2b0510"
      },
      "outputs": [
        {
          "output_type": "stream",
          "name": "stdout",
          "text": [
            "9600/9600 [==============================] - 23s 2ms/step\n"
          ]
        },
        {
          "output_type": "execute_result",
          "data": {
            "text/plain": [
              "<Axes: >"
            ]
          },
          "metadata": {},
          "execution_count": 20
        },
        {
          "output_type": "display_data",
          "data": {
            "text/plain": [
              "<Figure size 640x480 with 1 Axes>"
            ],
            "image/png": "[encoded data removed]"
          },
          "metadata": {}
        }
      ],
      "source": [
        "plot_decision_regions(x_testp,y_test.values,clf=model)"
      ]
    },
    {
      "cell_type": "code",
      "execution_count": null,
      "id": "2a45aeb8",
      "metadata": {
        "id": "2a45aeb8"
      },
      "outputs": [],
      "source": []
    }
  ],
  "metadata": {
    "kernelspec": {
      "display_name": "Python 3",
      "name": "python3"
    },
    "language_info": {
      "codemirror_mode": {
        "name": "ipython",
        "version": 3
      },
      "file_extension": ".py",
      "mimetype": "text/x-python",
      "name": "python",
      "nbconvert_exporter": "python",
      "pygments_lexer": "ipython3",
      "version": "3.9.13"
    },
    "colab": {
      "provenance": []
    }
  },
  "nbformat": 4,
  "nbformat_minor": 5
}