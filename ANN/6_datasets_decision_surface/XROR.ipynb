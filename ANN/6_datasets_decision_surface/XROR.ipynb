{
 "cells": [
  {
   "cell_type": "code",
   "execution_count": 1,
   "id": "80799f7a",
   "metadata": {},
   "outputs": [],
   "source": [
    "import numpy as np\n",
    "import pandas as pd\n",
    "import seaborn as sns\n",
    "import matplotlib.pyplot as plt\n",
    "from sklearn.model_selection import train_test_split\n",
    "from sklearn.preprocessing import StandardScaler\n",
    "import keras\n",
    "from keras import Sequential\n",
    "from keras.layers import Dense \n",
    "from keras.regularizers import L1,L2,L1L2\n",
    "from keras.optimizers import SGD\n",
    "\n",
    "\n",
    "from mlxtend.plotting import plot_decision_regions"
   ]
  },
  {
   "cell_type": "code",
   "execution_count": 2,
   "id": "95bbe37e",
   "metadata": {},
   "outputs": [
    {
     "data": {
      "text/html": [
       "<div>\n",
       "<style scoped>\n",
       "    .dataframe tbody tr th:only-of-type {\n",
       "        vertical-align: middle;\n",
       "    }\n",
       "\n",
       "    .dataframe tbody tr th {\n",
       "        vertical-align: top;\n",
       "    }\n",
       "\n",
       "    .dataframe thead th {\n",
       "        text-align: right;\n",
       "    }\n",
       "</style>\n",
       "<table border=\"1\" class=\"dataframe\">\n",
       "  <thead>\n",
       "    <tr style=\"text-align: right;\">\n",
       "      <th></th>\n",
       "      <th>0</th>\n",
       "      <th>1</th>\n",
       "      <th>2</th>\n",
       "    </tr>\n",
       "  </thead>\n",
       "  <tbody>\n",
       "    <tr>\n",
       "      <th>0</th>\n",
       "      <td>1.764052</td>\n",
       "      <td>0.400157</td>\n",
       "      <td>-1.0</td>\n",
       "    </tr>\n",
       "    <tr>\n",
       "      <th>1</th>\n",
       "      <td>0.978738</td>\n",
       "      <td>2.240893</td>\n",
       "      <td>-1.0</td>\n",
       "    </tr>\n",
       "    <tr>\n",
       "      <th>2</th>\n",
       "      <td>1.867558</td>\n",
       "      <td>-0.977278</td>\n",
       "      <td>1.0</td>\n",
       "    </tr>\n",
       "    <tr>\n",
       "      <th>3</th>\n",
       "      <td>0.950088</td>\n",
       "      <td>-0.151357</td>\n",
       "      <td>1.0</td>\n",
       "    </tr>\n",
       "    <tr>\n",
       "      <th>4</th>\n",
       "      <td>-0.103219</td>\n",
       "      <td>0.410599</td>\n",
       "      <td>1.0</td>\n",
       "    </tr>\n",
       "  </tbody>\n",
       "</table>\n",
       "</div>"
      ],
      "text/plain": [
       "          0         1    2\n",
       "0  1.764052  0.400157 -1.0\n",
       "1  0.978738  2.240893 -1.0\n",
       "2  1.867558 -0.977278  1.0\n",
       "3  0.950088 -0.151357  1.0\n",
       "4 -0.103219  0.410599  1.0"
      ]
     },
     "execution_count": 2,
     "metadata": {},
     "output_type": "execute_result"
    }
   ],
   "source": [
    "df = pd.read_csv(r\"C:\\Users\\hp\\Downloads\\Data Science Innomatics\\DS written notes\\Deep_learning\\DL_Assignments\\Multiple CSV\\7.xor.csv\", header = None)\n",
    "\n",
    "df.head()"
   ]
  },
  {
   "cell_type": "code",
   "execution_count": 3,
   "id": "6ae1e6ac",
   "metadata": {},
   "outputs": [
    {
     "data": {
      "text/plain": [
       "-1.0    260\n",
       " 1.0    240\n",
       "Name: 2, dtype: int64"
      ]
     },
     "execution_count": 3,
     "metadata": {},
     "output_type": "execute_result"
    }
   ],
   "source": [
    "df[2].value_counts()"
   ]
  },
  {
   "cell_type": "code",
   "execution_count": 4,
   "id": "0817e763",
   "metadata": {},
   "outputs": [
    {
     "name": "stdout",
     "output_type": "stream",
     "text": [
      "<class 'pandas.core.frame.DataFrame'>\n",
      "RangeIndex: 500 entries, 0 to 499\n",
      "Data columns (total 3 columns):\n",
      " #   Column  Non-Null Count  Dtype  \n",
      "---  ------  --------------  -----  \n",
      " 0   0       500 non-null    float64\n",
      " 1   1       500 non-null    float64\n",
      " 2   2       500 non-null    float64\n",
      "dtypes: float64(3)\n",
      "memory usage: 11.8 KB\n"
     ]
    }
   ],
   "source": [
    "df.info()"
   ]
  },
  {
   "cell_type": "code",
   "execution_count": 22,
   "id": "292dce75",
   "metadata": {},
   "outputs": [
    {
     "data": {
      "text/html": [
       "<div>\n",
       "<style scoped>\n",
       "    .dataframe tbody tr th:only-of-type {\n",
       "        vertical-align: middle;\n",
       "    }\n",
       "\n",
       "    .dataframe tbody tr th {\n",
       "        vertical-align: top;\n",
       "    }\n",
       "\n",
       "    .dataframe thead th {\n",
       "        text-align: right;\n",
       "    }\n",
       "</style>\n",
       "<table border=\"1\" class=\"dataframe\">\n",
       "  <thead>\n",
       "    <tr style=\"text-align: right;\">\n",
       "      <th></th>\n",
       "      <th>0</th>\n",
       "      <th>1</th>\n",
       "      <th>2</th>\n",
       "    </tr>\n",
       "  </thead>\n",
       "  <tbody>\n",
       "    <tr>\n",
       "      <th>0</th>\n",
       "      <td>1.764052</td>\n",
       "      <td>0.400157</td>\n",
       "      <td>0</td>\n",
       "    </tr>\n",
       "    <tr>\n",
       "      <th>1</th>\n",
       "      <td>0.978738</td>\n",
       "      <td>2.240893</td>\n",
       "      <td>0</td>\n",
       "    </tr>\n",
       "    <tr>\n",
       "      <th>2</th>\n",
       "      <td>1.867558</td>\n",
       "      <td>-0.977278</td>\n",
       "      <td>1</td>\n",
       "    </tr>\n",
       "    <tr>\n",
       "      <th>3</th>\n",
       "      <td>0.950088</td>\n",
       "      <td>-0.151357</td>\n",
       "      <td>1</td>\n",
       "    </tr>\n",
       "    <tr>\n",
       "      <th>4</th>\n",
       "      <td>-0.103219</td>\n",
       "      <td>0.410599</td>\n",
       "      <td>1</td>\n",
       "    </tr>\n",
       "  </tbody>\n",
       "</table>\n",
       "</div>"
      ],
      "text/plain": [
       "          0         1  2\n",
       "0  1.764052  0.400157  0\n",
       "1  0.978738  2.240893  0\n",
       "2  1.867558 -0.977278  1\n",
       "3  0.950088 -0.151357  1\n",
       "4 -0.103219  0.410599  1"
      ]
     },
     "execution_count": 22,
     "metadata": {},
     "output_type": "execute_result"
    }
   ],
   "source": [
    "df[2]=np.where(df[2]==-1.0,0,1)\n",
    "df.head() "
   ]
  },
  {
   "cell_type": "code",
   "execution_count": null,
   "id": "92491018",
   "metadata": {},
   "outputs": [],
   "source": []
  },
  {
   "cell_type": "code",
   "execution_count": 23,
   "id": "6737d591",
   "metadata": {},
   "outputs": [
    {
     "data": {
      "text/plain": [
       "<AxesSubplot:xlabel='0'>"
      ]
     },
     "execution_count": 23,
     "metadata": {},
     "output_type": "execute_result"
    },
    {
     "data": {
      "image/png": "[encoded data removed]",
      "text/plain": [
       "<Figure size 640x480 with 1 Axes>"
      ]
     },
     "metadata": {},
     "output_type": "display_data"
    }
   ],
   "source": [
    "sns.boxplot(x = df[0])"
   ]
  },
  {
   "cell_type": "code",
   "execution_count": 24,
   "id": "f34c268a",
   "metadata": {},
   "outputs": [
    {
     "data": {
      "text/plain": [
       "<AxesSubplot:xlabel='1'>"
      ]
     },
     "execution_count": 24,
     "metadata": {},
     "output_type": "execute_result"
    },
    {
     "data": {
      "image/png": "[encoded data removed]",
      "text/plain": [
       "<Figure size 640x480 with 1 Axes>"
      ]
     },
     "metadata": {},
     "output_type": "display_data"
    }
   ],
   "source": [
    "sns.boxplot(x = df[1])"
   ]
  },
  {
   "cell_type": "code",
   "execution_count": 25,
   "id": "3dcd7e6b",
   "metadata": {},
   "outputs": [],
   "source": [
    "x=df[[0,1]] \n",
    "y=df[2].astype(int) "
   ]
  },
  {
   "cell_type": "code",
   "execution_count": 26,
   "id": "71732f9f",
   "metadata": {},
   "outputs": [
    {
     "data": {
      "text/html": [
       "<div>\n",
       "<style scoped>\n",
       "    .dataframe tbody tr th:only-of-type {\n",
       "        vertical-align: middle;\n",
       "    }\n",
       "\n",
       "    .dataframe tbody tr th {\n",
       "        vertical-align: top;\n",
       "    }\n",
       "\n",
       "    .dataframe thead th {\n",
       "        text-align: right;\n",
       "    }\n",
       "</style>\n",
       "<table border=\"1\" class=\"dataframe\">\n",
       "  <thead>\n",
       "    <tr style=\"text-align: right;\">\n",
       "      <th></th>\n",
       "      <th>0</th>\n",
       "      <th>1</th>\n",
       "    </tr>\n",
       "  </thead>\n",
       "  <tbody>\n",
       "    <tr>\n",
       "      <th>0</th>\n",
       "      <td>1.764052</td>\n",
       "      <td>0.400157</td>\n",
       "    </tr>\n",
       "    <tr>\n",
       "      <th>1</th>\n",
       "      <td>0.978738</td>\n",
       "      <td>2.240893</td>\n",
       "    </tr>\n",
       "    <tr>\n",
       "      <th>2</th>\n",
       "      <td>1.867558</td>\n",
       "      <td>-0.977278</td>\n",
       "    </tr>\n",
       "    <tr>\n",
       "      <th>3</th>\n",
       "      <td>0.950088</td>\n",
       "      <td>-0.151357</td>\n",
       "    </tr>\n",
       "    <tr>\n",
       "      <th>4</th>\n",
       "      <td>-0.103219</td>\n",
       "      <td>0.410599</td>\n",
       "    </tr>\n",
       "  </tbody>\n",
       "</table>\n",
       "</div>"
      ],
      "text/plain": [
       "          0         1\n",
       "0  1.764052  0.400157\n",
       "1  0.978738  2.240893\n",
       "2  1.867558 -0.977278\n",
       "3  0.950088 -0.151357\n",
       "4 -0.103219  0.410599"
      ]
     },
     "execution_count": 26,
     "metadata": {},
     "output_type": "execute_result"
    }
   ],
   "source": [
    "x.head()  "
   ]
  },
  {
   "cell_type": "code",
   "execution_count": 27,
   "id": "73c320e5",
   "metadata": {},
   "outputs": [
    {
     "data": {
      "text/plain": [
       "0    0\n",
       "1    0\n",
       "2    1\n",
       "3    1\n",
       "4    1\n",
       "Name: 2, dtype: int32"
      ]
     },
     "execution_count": 27,
     "metadata": {},
     "output_type": "execute_result"
    }
   ],
   "source": [
    "y.head()  "
   ]
  },
  {
   "cell_type": "code",
   "execution_count": 28,
   "id": "670958a4",
   "metadata": {},
   "outputs": [],
   "source": [
    "x_train,x_test,y_train,y_test=train_test_split(x,y,test_size=0.1)  "
   ]
  },
  {
   "cell_type": "code",
   "execution_count": 29,
   "id": "037d877c",
   "metadata": {},
   "outputs": [
    {
     "data": {
      "text/plain": [
       "(450, 2)"
      ]
     },
     "execution_count": 29,
     "metadata": {},
     "output_type": "execute_result"
    }
   ],
   "source": [
    "x_train.shape  "
   ]
  },
  {
   "cell_type": "code",
   "execution_count": 30,
   "id": "1f25bb4d",
   "metadata": {},
   "outputs": [
    {
     "data": {
      "text/plain": [
       "(50, 2)"
      ]
     },
     "execution_count": 30,
     "metadata": {},
     "output_type": "execute_result"
    }
   ],
   "source": [
    "x_test.shape "
   ]
  },
  {
   "cell_type": "code",
   "execution_count": 31,
   "id": "b962ffe2",
   "metadata": {},
   "outputs": [],
   "source": [
    "std=StandardScaler()\n",
    "x_train=std.fit_transform(x_train)\n",
    "x_test=std.transform(x_test)  "
   ]
  },
  {
   "cell_type": "code",
   "execution_count": 32,
   "id": "e1c6b0a2",
   "metadata": {},
   "outputs": [],
   "source": [
    "model=Sequential()\n",
    "model.add(Dense(20,activation=\"relu\",kernel_regularizer=L2(0.001),bias_regularizer=L2(0.001),input_dim=2))\n",
    "model.add(Dense(18,activation=\"relu\",kernel_regularizer=L2(0.001),bias_regularizer=L2(0.001)))\n",
    "model.add(Dense(16,activation=\"relu\",kernel_regularizer=L2(0.001),bias_regularizer=L2(0.001)))\n",
    "model.add(Dense(1,activation=\"sigmoid\",kernel_regularizer=L2(0.001),bias_regularizer=L2(0.001))) "
   ]
  },
  {
   "cell_type": "code",
   "execution_count": 33,
   "id": "bb553760",
   "metadata": {},
   "outputs": [
    {
     "name": "stdout",
     "output_type": "stream",
     "text": [
      "Model: \"sequential_1\"\n",
      "_________________________________________________________________\n",
      " Layer (type)                Output Shape              Param #   \n",
      "=================================================================\n",
      " dense_4 (Dense)             (None, 20)                60        \n",
      "                                                                 \n",
      " dense_5 (Dense)             (None, 18)                378       \n",
      "                                                                 \n",
      " dense_6 (Dense)             (None, 16)                304       \n",
      "                                                                 \n",
      " dense_7 (Dense)             (None, 1)                 17        \n",
      "                                                                 \n",
      "=================================================================\n",
      "Total params: 759 (2.96 KB)\n",
      "Trainable params: 759 (2.96 KB)\n",
      "Non-trainable params: 0 (0.00 Byte)\n",
      "_________________________________________________________________\n"
     ]
    }
   ],
   "source": [
    "model.summary()  "
   ]
  },
  {
   "cell_type": "code",
   "execution_count": 34,
   "id": "eec4227e",
   "metadata": {},
   "outputs": [
    {
     "name": "stdout",
     "output_type": "stream",
     "text": [
      "Epoch 1/35\n",
      "41/41 [==============================] - 1s 8ms/step - loss: 0.7235 - accuracy: 0.6173 - val_loss: 0.7043 - val_accuracy: 0.8222\n",
      "Epoch 2/35\n",
      "41/41 [==============================] - 0s 3ms/step - loss: 0.7011 - accuracy: 0.7778 - val_loss: 0.6792 - val_accuracy: 0.8444\n",
      "Epoch 3/35\n",
      "41/41 [==============================] - 0s 3ms/step - loss: 0.6838 - accuracy: 0.7728 - val_loss: 0.6601 - val_accuracy: 0.8667\n",
      "Epoch 4/35\n",
      "41/41 [==============================] - 0s 4ms/step - loss: 0.6697 - accuracy: 0.7802 - val_loss: 0.6451 - val_accuracy: 0.8222\n",
      "Epoch 5/35\n",
      "41/41 [==============================] - 0s 3ms/step - loss: 0.6564 - accuracy: 0.7753 - val_loss: 0.6314 - val_accuracy: 0.8222\n",
      "Epoch 6/35\n",
      "41/41 [==============================] - 0s 4ms/step - loss: 0.6430 - accuracy: 0.7951 - val_loss: 0.6197 - val_accuracy: 0.8000\n",
      "Epoch 7/35\n",
      "41/41 [==============================] - 0s 3ms/step - loss: 0.6292 - accuracy: 0.8099 - val_loss: 0.6061 - val_accuracy: 0.8000\n",
      "Epoch 8/35\n",
      "41/41 [==============================] - 0s 4ms/step - loss: 0.6150 - accuracy: 0.8148 - val_loss: 0.5919 - val_accuracy: 0.8000\n",
      "Epoch 9/35\n",
      "41/41 [==============================] - 0s 4ms/step - loss: 0.6001 - accuracy: 0.8296 - val_loss: 0.5780 - val_accuracy: 0.7778\n",
      "Epoch 10/35\n",
      "41/41 [==============================] - 0s 4ms/step - loss: 0.5842 - accuracy: 0.8296 - val_loss: 0.5633 - val_accuracy: 0.8222\n",
      "Epoch 11/35\n",
      "41/41 [==============================] - 0s 4ms/step - loss: 0.5674 - accuracy: 0.8420 - val_loss: 0.5459 - val_accuracy: 0.8444\n",
      "Epoch 12/35\n",
      "41/41 [==============================] - 0s 4ms/step - loss: 0.5492 - accuracy: 0.8444 - val_loss: 0.5274 - val_accuracy: 0.8667\n",
      "Epoch 13/35\n",
      "41/41 [==============================] - 0s 4ms/step - loss: 0.5307 - accuracy: 0.8667 - val_loss: 0.5123 - val_accuracy: 0.8889\n",
      "Epoch 14/35\n",
      "41/41 [==============================] - 0s 4ms/step - loss: 0.5113 - accuracy: 0.8667 - val_loss: 0.4930 - val_accuracy: 0.9111\n",
      "Epoch 15/35\n",
      "41/41 [==============================] - 0s 3ms/step - loss: 0.4915 - accuracy: 0.8864 - val_loss: 0.4758 - val_accuracy: 0.9111\n",
      "Epoch 16/35\n",
      "41/41 [==============================] - 0s 3ms/step - loss: 0.4710 - accuracy: 0.8914 - val_loss: 0.4562 - val_accuracy: 0.9333\n",
      "Epoch 17/35\n",
      "41/41 [==============================] - 0s 4ms/step - loss: 0.4505 - accuracy: 0.9062 - val_loss: 0.4383 - val_accuracy: 0.9333\n",
      "Epoch 18/35\n",
      "41/41 [==============================] - 0s 4ms/step - loss: 0.4300 - accuracy: 0.9210 - val_loss: 0.4226 - val_accuracy: 0.9333\n",
      "Epoch 19/35\n",
      "41/41 [==============================] - 0s 4ms/step - loss: 0.4106 - accuracy: 0.9136 - val_loss: 0.4036 - val_accuracy: 0.9333\n",
      "Epoch 20/35\n",
      "41/41 [==============================] - 0s 4ms/step - loss: 0.3916 - accuracy: 0.9333 - val_loss: 0.3865 - val_accuracy: 0.9333\n",
      "Epoch 21/35\n",
      "41/41 [==============================] - 0s 4ms/step - loss: 0.3740 - accuracy: 0.9284 - val_loss: 0.3686 - val_accuracy: 0.9333\n",
      "Epoch 22/35\n",
      "41/41 [==============================] - 0s 4ms/step - loss: 0.3570 - accuracy: 0.9457 - val_loss: 0.3537 - val_accuracy: 0.9333\n",
      "Epoch 23/35\n",
      "41/41 [==============================] - 0s 4ms/step - loss: 0.3408 - accuracy: 0.9506 - val_loss: 0.3401 - val_accuracy: 0.9333\n",
      "Epoch 24/35\n",
      "41/41 [==============================] - 0s 3ms/step - loss: 0.3263 - accuracy: 0.9605 - val_loss: 0.3261 - val_accuracy: 0.9333\n",
      "Epoch 25/35\n",
      "41/41 [==============================] - 0s 4ms/step - loss: 0.3119 - accuracy: 0.9704 - val_loss: 0.3221 - val_accuracy: 0.9333\n",
      "Epoch 26/35\n",
      "41/41 [==============================] - 0s 4ms/step - loss: 0.3010 - accuracy: 0.9630 - val_loss: 0.3024 - val_accuracy: 0.9333\n",
      "Epoch 27/35\n",
      "41/41 [==============================] - 0s 5ms/step - loss: 0.2891 - accuracy: 0.9728 - val_loss: 0.2943 - val_accuracy: 0.9333\n",
      "Epoch 28/35\n",
      "41/41 [==============================] - 0s 4ms/step - loss: 0.2783 - accuracy: 0.9704 - val_loss: 0.2801 - val_accuracy: 0.9556\n",
      "Epoch 29/35\n",
      "41/41 [==============================] - 0s 4ms/step - loss: 0.2688 - accuracy: 0.9753 - val_loss: 0.2718 - val_accuracy: 0.9556\n",
      "Epoch 30/35\n",
      "41/41 [==============================] - 0s 4ms/step - loss: 0.2597 - accuracy: 0.9753 - val_loss: 0.2695 - val_accuracy: 0.9556\n",
      "Epoch 31/35\n",
      "41/41 [==============================] - 0s 4ms/step - loss: 0.2519 - accuracy: 0.9778 - val_loss: 0.2633 - val_accuracy: 0.9556\n",
      "Epoch 32/35\n",
      "41/41 [==============================] - 0s 4ms/step - loss: 0.2442 - accuracy: 0.9778 - val_loss: 0.2564 - val_accuracy: 0.9333\n",
      "Epoch 33/35\n",
      "41/41 [==============================] - 0s 4ms/step - loss: 0.2376 - accuracy: 0.9802 - val_loss: 0.2493 - val_accuracy: 0.9556\n",
      "Epoch 34/35\n",
      "41/41 [==============================] - 0s 5ms/step - loss: 0.2304 - accuracy: 0.9753 - val_loss: 0.2382 - val_accuracy: 0.9556\n",
      "Epoch 35/35\n",
      "41/41 [==============================] - 0s 4ms/step - loss: 0.2251 - accuracy: 0.9802 - val_loss: 0.2326 - val_accuracy: 0.9556\n"
     ]
    }
   ],
   "source": [
    "model.compile(loss=\"binary_crossentropy\",optimizer=SGD(0.01),metrics=[\"accuracy\"])\n",
    "history=model.fit(x_train,y_train,batch_size=10,epochs=35,validation_split=0.1) "
   ]
  },
  {
   "cell_type": "code",
   "execution_count": 35,
   "id": "b98bb439",
   "metadata": {},
   "outputs": [
    {
     "data": {
      "text/plain": [
       "<matplotlib.legend.Legend at 0x2627307bd60>"
      ]
     },
     "execution_count": 35,
     "metadata": {},
     "output_type": "execute_result"
    },
    {
     "data": {
      "image/png": "[encoded data removed]",
      "text/plain": [
       "<Figure size 640x480 with 1 Axes>"
      ]
     },
     "metadata": {},
     "output_type": "display_data"
    }
   ],
   "source": [
    "plt.plot(range(1,36),history.history[\"loss\"],label=\"train_loss\")\n",
    "plt.plot(range(1,36),history.history[\"val_loss\"],label=\"test_loss\") \n",
    "plt.legend() "
   ]
  },
  {
   "cell_type": "code",
   "execution_count": 36,
   "id": "acfacc96",
   "metadata": {},
   "outputs": [
    {
     "name": "stdout",
     "output_type": "stream",
     "text": [
      "2/2 [==============================] - 0s 3ms/step\n"
     ]
    },
    {
     "data": {
      "text/plain": [
       "array([[2.4533778e-02],\n",
       "       [1.0212106e-01],\n",
       "       [7.3243028e-01],\n",
       "       [2.5122691e-02],\n",
       "       [9.9344015e-01],\n",
       "       [8.0366528e-01],\n",
       "       [4.5745993e-01],\n",
       "       [2.3870528e-01],\n",
       "       [4.2664754e-01],\n",
       "       [5.6683753e-02],\n",
       "       [1.5060245e-01],\n",
       "       [1.0923065e-01],\n",
       "       [9.0601109e-02],\n",
       "       [9.4315404e-01],\n",
       "       [3.9010484e-02],\n",
       "       [9.8997932e-03],\n",
       "       [3.5553806e-02],\n",
       "       [9.9120808e-01],\n",
       "       [9.9643737e-01],\n",
       "       [4.4160135e-04],\n",
       "       [3.5663418e-02],\n",
       "       [8.1188791e-02],\n",
       "       [2.9392323e-01],\n",
       "       [1.1545643e-01],\n",
       "       [5.3235507e-01],\n",
       "       [9.9991035e-01],\n",
       "       [5.5222765e-02],\n",
       "       [7.5212133e-01],\n",
       "       [1.4346486e-01],\n",
       "       [1.0718232e-01],\n",
       "       [3.7373651e-02],\n",
       "       [5.0117838e-01],\n",
       "       [4.3058565e-01],\n",
       "       [1.4927851e-01],\n",
       "       [9.9881279e-01],\n",
       "       [9.3994331e-01],\n",
       "       [8.4434420e-01],\n",
       "       [7.6719564e-01],\n",
       "       [1.4149374e-02],\n",
       "       [3.9654726e-01],\n",
       "       [6.3329464e-01],\n",
       "       [1.3457938e-01],\n",
       "       [9.5827693e-01],\n",
       "       [5.5596237e-03],\n",
       "       [1.5536139e-03],\n",
       "       [2.5744161e-01],\n",
       "       [3.0201821e-02],\n",
       "       [1.1395669e-02],\n",
       "       [3.6334470e-01],\n",
       "       [4.4193935e-01]], dtype=float32)"
      ]
     },
     "execution_count": 36,
     "metadata": {},
     "output_type": "execute_result"
    }
   ],
   "source": [
    "predicted=model.predict(x_test) \n",
    "predicted "
   ]
  },
  {
   "cell_type": "code",
   "execution_count": 37,
   "id": "2ce0e26a",
   "metadata": {},
   "outputs": [
    {
     "data": {
      "text/plain": [
       "array([[0],\n",
       "       [0],\n",
       "       [1],\n",
       "       [0],\n",
       "       [1],\n",
       "       [1],\n",
       "       [0],\n",
       "       [0],\n",
       "       [0],\n",
       "       [0],\n",
       "       [0],\n",
       "       [0],\n",
       "       [0],\n",
       "       [1],\n",
       "       [0],\n",
       "       [0],\n",
       "       [0],\n",
       "       [1],\n",
       "       [1],\n",
       "       [0],\n",
       "       [0],\n",
       "       [0],\n",
       "       [0],\n",
       "       [0],\n",
       "       [1],\n",
       "       [1],\n",
       "       [0],\n",
       "       [1],\n",
       "       [0],\n",
       "       [0],\n",
       "       [0],\n",
       "       [1],\n",
       "       [0],\n",
       "       [0],\n",
       "       [1],\n",
       "       [1],\n",
       "       [1],\n",
       "       [1],\n",
       "       [0],\n",
       "       [0],\n",
       "       [1],\n",
       "       [0],\n",
       "       [1],\n",
       "       [0],\n",
       "       [0],\n",
       "       [0],\n",
       "       [0],\n",
       "       [0],\n",
       "       [0],\n",
       "       [0]])"
      ]
     },
     "execution_count": 37,
     "metadata": {},
     "output_type": "execute_result"
    }
   ],
   "source": [
    "predicted=np.where(predicted>0.5,1,0)\n",
    "predicted  "
   ]
  },
  {
   "cell_type": "code",
   "execution_count": 38,
   "id": "7c6d4bbb",
   "metadata": {},
   "outputs": [
    {
     "name": "stdout",
     "output_type": "stream",
     "text": [
      "0.94\n"
     ]
    },
    {
     "data": {
      "image/png": "[encoded data removed]",
      "text/plain": [
       "<Figure size 640x480 with 2 Axes>"
      ]
     },
     "metadata": {},
     "output_type": "display_data"
    }
   ],
   "source": [
    "from sklearn.metrics import accuracy_score,confusion_matrix,ConfusionMatrixDisplay\n",
    "print(accuracy_score(y_test,predicted))\n",
    "cm=confusion_matrix(y_test,predicted)\n",
    "va=ConfusionMatrixDisplay(cm)\n",
    "va.plot() \n",
    "plt.show()  "
   ]
  },
  {
   "cell_type": "code",
   "execution_count": 39,
   "id": "8416561f",
   "metadata": {},
   "outputs": [
    {
     "name": "stdout",
     "output_type": "stream",
     "text": [
      "9600/9600 [==============================] - 21s 2ms/step\n"
     ]
    },
    {
     "data": {
      "text/plain": [
       "<AxesSubplot:>"
      ]
     },
     "execution_count": 39,
     "metadata": {},
     "output_type": "execute_result"
    },
    {
     "data": {
      "image/png": "[encoded data removed]",
      "text/plain": [
       "<Figure size 640x480 with 1 Axes>"
      ]
     },
     "metadata": {},
     "output_type": "display_data"
    }
   ],
   "source": [
    "plot_decision_regions(x_train,y_train.values,clf=model) "
   ]
  },
  {
   "cell_type": "code",
   "execution_count": 40,
   "id": "7c9e7836",
   "metadata": {},
   "outputs": [
    {
     "name": "stdout",
     "output_type": "stream",
     "text": [
      "9600/9600 [==============================] - 21s 2ms/step\n"
     ]
    },
    {
     "data": {
      "text/plain": [
       "<AxesSubplot:>"
      ]
     },
     "execution_count": 40,
     "metadata": {},
     "output_type": "execute_result"
    },
    {
     "data": {
      "image/png": "[encoded data removed]",
      "text/plain": [
       "<Figure size 640x480 with 1 Axes>"
      ]
     },
     "metadata": {},
     "output_type": "display_data"
    }
   ],
   "source": [
    "plot_decision_regions(x_test,y_test.values,clf=model) "
   ]
  },
  {
   "cell_type": "code",
   "execution_count": null,
   "id": "06c442fa",
   "metadata": {},
   "outputs": [],
   "source": []
  },
  {
   "cell_type": "code",
   "execution_count": null,
   "id": "08ce18a0",
   "metadata": {},
   "outputs": [],
   "source": []
  },
  {
   "cell_type": "code",
   "execution_count": null,
   "id": "c6f7b9ec",
   "metadata": {},
   "outputs": [],
   "source": []
  },
  {
   "cell_type": "code",
   "execution_count": null,
   "id": "af65470a",
   "metadata": {},
   "outputs": [],
   "source": []
  },
  {
   "cell_type": "code",
   "execution_count": null,
   "id": "52aae5ec",
   "metadata": {},
   "outputs": [],
   "source": []
  },
  {
   "cell_type": "code",
   "execution_count": null,
   "id": "5e718ae2",
   "metadata": {},
   "outputs": [],
   "source": []
  },
  {
   "cell_type": "code",
   "execution_count": null,
   "id": "04fa79c2",
   "metadata": {},
   "outputs": [],
   "source": []
  },
  {
   "cell_type": "code",
   "execution_count": null,
   "id": "a0e625d0",
   "metadata": {},
   "outputs": [],
   "source": []
  }
 ],
 "metadata": {
  "kernelspec": {
   "display_name": "Python 3 (ipykernel)",
   "language": "python",
   "name": "python3"
  },
  "language_info": {
   "codemirror_mode": {
    "name": "ipython",
    "version": 3
   },
   "file_extension": ".py",
   "mimetype": "text/x-python",
   "name": "python",
   "nbconvert_exporter": "python",
   "pygments_lexer": "ipython3",
   "version": "3.9.13"
  }
 },
 "nbformat": 4,
 "nbformat_minor": 5
}
