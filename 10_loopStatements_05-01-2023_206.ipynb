{
 "cells": [
  {
   "cell_type": "markdown",
   "metadata": {
    "id": "OwRdbJgAU8HS"
   },
   "source": [
    "#### while\n",
    "* `while` is a `looping statement` in python which uses `c.e` to determine wether to execute the loop or not\n",
    "* if the given c.e turns out to be `True`, the code within the `while` block will be executed\n",
    "* in order to exit the loop, we need to alter or change the o/p of the given c.e to `False`\n",
    "* if not, the code within the `while` block will be executed till the memory is exhausted\n",
    "* we can change the given c.e o/p to `False` by using a statements  like `assignment` or `if-block` or a `control-flow`\n",
    "\n",
    "* syntax for `while`\n",
    "\n",
    "  * while `c.e`:\n",
    "      * bock of code\n",
    "\n",
    "* <u>note:</u> if our while loop doesn't have the statement that alters the o/p of `c.e` to `False`, the loops keeps running till the memory runs out."
   ]
  },
  {
   "cell_type": "code",
   "execution_count": null,
   "metadata": {
    "id": "fmzKlsVMUh4I"
   },
   "outputs": [],
   "source": []
  },
  {
   "cell_type": "code",
   "execution_count": null,
   "metadata": {
    "colab": {
     "base_uri": "https://localhost:8080/",
     "height": 35
    },
    "executionInfo": {
     "elapsed": 64,
     "status": "ok",
     "timestamp": 1672728348693,
     "user": {
      "displayName": "Abhilash Manikanta",
      "userId": "03760544981880881787"
     },
     "user_tz": -330
    },
    "id": "cHrMvqRdU2oU",
    "outputId": "96e2d857-649e-460e-b5ae-02738d6ff5f4"
   },
   "outputs": [
    {
     "data": {
      "application/vnd.google.colaboratory.intrinsic+json": {
       "type": "string"
      },
      "text/plain": [
       "\"\\n# don't run this \\nx = 1\\nwhile x == 1:\\n  print('Don't run this block')\\n\""
      ]
     },
     "execution_count": 1,
     "metadata": {},
     "output_type": "execute_result"
    }
   ],
   "source": [
    "'''\n",
    "# don't run this \n",
    "x = 1\n",
    "while x == 1:\n",
    "  print('Don\\'t run this block')\n",
    "'''"
   ]
  },
  {
   "cell_type": "code",
   "execution_count": null,
   "metadata": {
    "colab": {
     "base_uri": "https://localhost:8080/"
    },
    "executionInfo": {
     "elapsed": 434,
     "status": "ok",
     "timestamp": 1672728368289,
     "user": {
      "displayName": "Abhilash Manikanta",
      "userId": "03760544981880881787"
     },
     "user_tz": -330
    },
    "id": "YqbMPq6cU2r3",
    "outputId": "0d28a450-71fe-4f03-89ff-b5e069470c56"
   },
   "outputs": [
    {
     "name": "stdout",
     "output_type": "stream",
     "text": [
      "Don't run this block\n"
     ]
    }
   ],
   "source": [
    "x = 1\n",
    "while x == 1:\n",
    "  print('Don\\'t run this block')\n",
    "  x += 1"
   ]
  },
  {
   "cell_type": "code",
   "execution_count": null,
   "metadata": {
    "colab": {
     "base_uri": "https://localhost:8080/"
    },
    "executionInfo": {
     "elapsed": 8,
     "status": "ok",
     "timestamp": 1672728618920,
     "user": {
      "displayName": "Abhilash Manikanta",
      "userId": "03760544981880881787"
     },
     "user_tz": -330
    },
    "id": "rLwCxs_AU2vz",
    "outputId": "51b23b32-3c05-480a-d961-ac79bf4fcd60"
   },
   "outputs": [
    {
     "name": "stdout",
     "output_type": "stream",
     "text": [
      "1, 2, 3, 4, 5, 6, 7, 8, 9, 10, "
     ]
    }
   ],
   "source": [
    "# wap to print ten numbers starting with 1, using while loop\n",
    "\n",
    "x = 1\n",
    "while x<=10:\n",
    "  print(x, end = ', ')\n",
    "  x += 1"
   ]
  },
  {
   "cell_type": "code",
   "execution_count": null,
   "metadata": {
    "colab": {
     "base_uri": "https://localhost:8080/"
    },
    "executionInfo": {
     "elapsed": 12,
     "status": "ok",
     "timestamp": 1672728798110,
     "user": {
      "displayName": "Abhilash Manikanta",
      "userId": "03760544981880881787"
     },
     "user_tz": -330
    },
    "id": "IBqnlfH3U20F",
    "outputId": "29fa3fd0-3716-4521-c873-0cdf9e9d6ded"
   },
   "outputs": [
    {
     "name": "stdout",
     "output_type": "stream",
     "text": [
      "entering the while block with x value as 1\n",
      "exiting the while block with x value as 2 after increment \n",
      "\n",
      "entering the while block with x value as 2\n",
      "exiting the while block with x value as 3 after increment \n",
      "\n",
      "entering the while block with x value as 3\n",
      "exiting the while block with x value as 4 after increment \n",
      "\n",
      "entering the while block with x value as 4\n",
      "exiting the while block with x value as 5 after increment \n",
      "\n",
      "entering the while block with x value as 5\n",
      "exiting the while block with x value as 6 after increment \n",
      "\n",
      "entering the while block with x value as 6\n",
      "exiting the while block with x value as 7 after increment \n",
      "\n",
      "entering the while block with x value as 7\n",
      "exiting the while block with x value as 8 after increment \n",
      "\n",
      "entering the while block with x value as 8\n",
      "exiting the while block with x value as 9 after increment \n",
      "\n",
      "entering the while block with x value as 9\n",
      "exiting the while block with x value as 10 after increment \n",
      "\n",
      "entering the while block with x value as 10\n",
      "exiting the while block with x value as 11 after increment \n",
      "\n"
     ]
    }
   ],
   "source": [
    "x = 1\n",
    "while x<=10:\n",
    "  print(f'entering the while block with x value as {x}')\n",
    "  x += 1\n",
    "  print(f'exiting the while block with x value as {x} after increment \\n')\n"
   ]
  },
  {
   "cell_type": "code",
   "execution_count": null,
   "metadata": {
    "colab": {
     "base_uri": "https://localhost:8080/"
    },
    "executionInfo": {
     "elapsed": 7117,
     "status": "ok",
     "timestamp": 1672729992180,
     "user": {
      "displayName": "Abhilash Manikanta",
      "userId": "03760544981880881787"
     },
     "user_tz": -330
    },
    "id": "d-TH3hsFU26j",
    "outputId": "4a9e559c-5243-4712-acf6-e118ab888aa4"
   },
   "outputs": [
    {
     "name": "stdout",
     "output_type": "stream",
     "text": [
      "enter the staring num 1\n",
      "enter the end num 11\n",
      "1, 3, 5, 7, 9, "
     ]
    }
   ],
   "source": [
    "# wap to print all the odd numbers betwen given two numbers, using while loop\n",
    "\n",
    "start = int(input('enter the staring num '))\n",
    "end = int(input('enter the end num '))\n",
    "\n",
    "while start < end:\n",
    "  if start % 2 != 0:\n",
    "    print(start, end = ', ')\n",
    "  start += 1\n",
    "\n"
   ]
  },
  {
   "cell_type": "code",
   "execution_count": null,
   "metadata": {
    "colab": {
     "base_uri": "https://localhost:8080/"
    },
    "executionInfo": {
     "elapsed": 24008,
     "status": "ok",
     "timestamp": 1672730194281,
     "user": {
      "displayName": "Abhilash Manikanta",
      "userId": "03760544981880881787"
     },
     "user_tz": -330
    },
    "id": "7MIPG1XDU29k",
    "outputId": "1001d68f-bbcb-4cc1-9711-3bc8e345ff54"
   },
   "outputs": [
    {
     "name": "stdout",
     "output_type": "stream",
     "text": [
      "Enter a string: loopStatements206\n",
      "loSaeet26"
     ]
    }
   ],
   "source": [
    "# wap to prit the alternate chars in given string, using while loop\n",
    "word = input('Enter a string: ')\n",
    "a = 0\n",
    "while a<len(word):\n",
    "  print(word[a], end = '')\n",
    "  a+=2"
   ]
  },
  {
   "cell_type": "code",
   "execution_count": null,
   "metadata": {
    "colab": {
     "base_uri": "https://localhost:8080/"
    },
    "executionInfo": {
     "elapsed": 9876,
     "status": "ok",
     "timestamp": 1672731668424,
     "user": {
      "displayName": "Abhilash Manikanta",
      "userId": "03760544981880881787"
     },
     "user_tz": -330
    },
    "id": "0pUnVAS4U3AM",
    "outputId": "b0094919-96f0-4899-b20a-aebb5ba58815"
   },
   "outputs": [
    {
     "name": "stdout",
     "output_type": "stream",
     "text": [
      "enter a string-a: hello\n",
      "enter a string of len(string-a): holla\n",
      "ha, el, ll, lo, oh, "
     ]
    }
   ],
   "source": [
    "a = input('enter a string-a: ')\n",
    "b = input('enter a string of len(string-a): ')\n",
    "\n",
    "ain, bin = 0, -1 \n",
    "\n",
    "while ain < len(a) and bin >= -len(b):\n",
    "  print(a[ain]+b[bin], end =', ')\n",
    "  ain += 1\n",
    "  bin -= 1\n",
    "\n"
   ]
  },
  {
   "cell_type": "code",
   "execution_count": 1,
   "metadata": {
    "id": "QdTI1CP6U3Cd"
   },
   "outputs": [
    {
     "name": "stdout",
     "output_type": "stream",
     "text": [
      "Enter a number: 6\n",
      "square of 6 is 36\n",
      "Enter a number: 9\n",
      "square of 9 is 81\n",
      "Enter a number: 10\n",
      "square of 10 is 100\n",
      "Enter a number: 1\n",
      "square of 1 is 1\n",
      "Enter a number: 0\n",
      "square of 0 is 0\n"
     ]
    },
    {
     "ename": "KeyboardInterrupt",
     "evalue": "Interrupted by user",
     "output_type": "error",
     "traceback": [
      "\u001b[1;31m---------------------------------------------------------------------------\u001b[0m",
      "\u001b[1;31mKeyboardInterrupt\u001b[0m                         Traceback (most recent call last)",
      "\u001b[1;32m~\\AppData\\Local\\Temp\\ipykernel_17500\\2028080433.py\u001b[0m in \u001b[0;36m<module>\u001b[1;34m\u001b[0m\n\u001b[0;32m      1\u001b[0m \u001b[1;31m# an infinite loop\u001b[0m\u001b[1;33m\u001b[0m\u001b[1;33m\u001b[0m\u001b[0m\n\u001b[0;32m      2\u001b[0m \u001b[1;32mwhile\u001b[0m \u001b[1;32mTrue\u001b[0m\u001b[1;33m:\u001b[0m\u001b[1;33m\u001b[0m\u001b[1;33m\u001b[0m\u001b[0m\n\u001b[1;32m----> 3\u001b[1;33m     \u001b[0mx\u001b[0m \u001b[1;33m=\u001b[0m \u001b[0mint\u001b[0m\u001b[1;33m(\u001b[0m\u001b[0minput\u001b[0m\u001b[1;33m(\u001b[0m\u001b[1;34m'Enter a number: '\u001b[0m\u001b[1;33m)\u001b[0m\u001b[1;33m)\u001b[0m\u001b[1;33m\u001b[0m\u001b[1;33m\u001b[0m\u001b[0m\n\u001b[0m\u001b[0;32m      4\u001b[0m     \u001b[0mprint\u001b[0m \u001b[1;33m(\u001b[0m\u001b[1;34m\"square of\"\u001b[0m\u001b[1;33m,\u001b[0m \u001b[0mx\u001b[0m\u001b[1;33m,\u001b[0m \u001b[1;34m\"is\"\u001b[0m\u001b[1;33m,\u001b[0m \u001b[0mx\u001b[0m\u001b[1;33m*\u001b[0m\u001b[0mx\u001b[0m\u001b[1;33m)\u001b[0m\u001b[1;33m\u001b[0m\u001b[1;33m\u001b[0m\u001b[0m\n\u001b[0;32m      5\u001b[0m \u001b[1;33m\u001b[0m\u001b[0m\n",
      "\u001b[1;32m~\\anaconda3\\lib\\site-packages\\ipykernel\\kernelbase.py\u001b[0m in \u001b[0;36mraw_input\u001b[1;34m(self, prompt)\u001b[0m\n\u001b[0;32m   1175\u001b[0m                 \u001b[1;34m\"raw_input was called, but this frontend does not support input requests.\"\u001b[0m\u001b[1;33m\u001b[0m\u001b[1;33m\u001b[0m\u001b[0m\n\u001b[0;32m   1176\u001b[0m             )\n\u001b[1;32m-> 1177\u001b[1;33m         return self._input_request(\n\u001b[0m\u001b[0;32m   1178\u001b[0m             \u001b[0mstr\u001b[0m\u001b[1;33m(\u001b[0m\u001b[0mprompt\u001b[0m\u001b[1;33m)\u001b[0m\u001b[1;33m,\u001b[0m\u001b[1;33m\u001b[0m\u001b[1;33m\u001b[0m\u001b[0m\n\u001b[0;32m   1179\u001b[0m             \u001b[0mself\u001b[0m\u001b[1;33m.\u001b[0m\u001b[0m_parent_ident\u001b[0m\u001b[1;33m[\u001b[0m\u001b[1;34m\"shell\"\u001b[0m\u001b[1;33m]\u001b[0m\u001b[1;33m,\u001b[0m\u001b[1;33m\u001b[0m\u001b[1;33m\u001b[0m\u001b[0m\n",
      "\u001b[1;32m~\\anaconda3\\lib\\site-packages\\ipykernel\\kernelbase.py\u001b[0m in \u001b[0;36m_input_request\u001b[1;34m(self, prompt, ident, parent, password)\u001b[0m\n\u001b[0;32m   1217\u001b[0m             \u001b[1;32mexcept\u001b[0m \u001b[0mKeyboardInterrupt\u001b[0m\u001b[1;33m:\u001b[0m\u001b[1;33m\u001b[0m\u001b[1;33m\u001b[0m\u001b[0m\n\u001b[0;32m   1218\u001b[0m                 \u001b[1;31m# re-raise KeyboardInterrupt, to truncate traceback\u001b[0m\u001b[1;33m\u001b[0m\u001b[1;33m\u001b[0m\u001b[0m\n\u001b[1;32m-> 1219\u001b[1;33m                 \u001b[1;32mraise\u001b[0m \u001b[0mKeyboardInterrupt\u001b[0m\u001b[1;33m(\u001b[0m\u001b[1;34m\"Interrupted by user\"\u001b[0m\u001b[1;33m)\u001b[0m \u001b[1;32mfrom\u001b[0m \u001b[1;32mNone\u001b[0m\u001b[1;33m\u001b[0m\u001b[1;33m\u001b[0m\u001b[0m\n\u001b[0m\u001b[0;32m   1220\u001b[0m             \u001b[1;32mexcept\u001b[0m \u001b[0mException\u001b[0m\u001b[1;33m:\u001b[0m\u001b[1;33m\u001b[0m\u001b[1;33m\u001b[0m\u001b[0m\n\u001b[0;32m   1221\u001b[0m                 \u001b[0mself\u001b[0m\u001b[1;33m.\u001b[0m\u001b[0mlog\u001b[0m\u001b[1;33m.\u001b[0m\u001b[0mwarning\u001b[0m\u001b[1;33m(\u001b[0m\u001b[1;34m\"Invalid Message:\"\u001b[0m\u001b[1;33m,\u001b[0m \u001b[0mexc_info\u001b[0m\u001b[1;33m=\u001b[0m\u001b[1;32mTrue\u001b[0m\u001b[1;33m)\u001b[0m\u001b[1;33m\u001b[0m\u001b[1;33m\u001b[0m\u001b[0m\n",
      "\u001b[1;31mKeyboardInterrupt\u001b[0m: Interrupted by user"
     ]
    }
   ],
   "source": [
    "\n",
    "# an infinite loop\n",
    "while True:\n",
    "    x = int(input('Enter a number: '))\n",
    "    print (\"square of\", x, \"is\", x*x)"
   ]
  },
  {
   "cell_type": "code",
   "execution_count": 2,
   "metadata": {
    "id": "R7BBTQFiU3HK"
   },
   "outputs": [
    {
     "name": "stdout",
     "output_type": "stream",
     "text": [
      "Enter n: 10\n",
      "The sum is 55\n"
     ]
    }
   ],
   "source": [
    "\n",
    "# Program to add natural\n",
    "# numbers up to \n",
    "# sum = 1+2+3+...+n\n",
    " \n",
    "# To take input from the user,\n",
    "n = int(input(\"Enter n: \"))\n",
    " \n",
    "# initialize sum and counter\n",
    "sum = 0\n",
    "i = 1\n",
    " \n",
    "while i <= n:\n",
    "    sum = sum + i\n",
    "    i = i+1 # update counter\n",
    " \n",
    "# print the sum\n",
    "print(\"The sum is\", sum)\n",
    "\n"
   ]
  },
  {
   "cell_type": "code",
   "execution_count": 11,
   "metadata": {
    "colab": {
     "base_uri": "https://localhost:8080/"
    },
    "executionInfo": {
     "elapsed": 11106,
     "status": "ok",
     "timestamp": 1672815760789,
     "user": {
      "displayName": "Abhilash Manikanta",
      "userId": "03760544981880881787"
     },
     "user_tz": -330
    },
    "id": "mZJPp5RpU3Jv",
    "outputId": "7482df86-c873-4496-e651-3a71fbd0e2d9"
   },
   "outputs": [
    {
     "name": "stdout",
     "output_type": "stream",
     "text": [
      "enter number seperated by \",\" 1,5,-9,0,-100\n",
      "[[0], [1, 5]]\n",
      "[[-100], [-9]]\n"
     ]
    }
   ],
   "source": [
    "### Q3\n",
    "nums = input('enter number seperated by \",\" ')\n",
    "\n",
    "nums = nums.split(',')\n",
    "\n",
    "pos, neg = [], []\n",
    "\n",
    "pos.extend([[],[]])\n",
    "\n",
    "neg.extend([[],[]])\n",
    "\n",
    "a = len(nums)-1\n",
    "b = 0 \n",
    "\n",
    "while b<=a:\n",
    "  if int(nums[b]) >=0 and int(nums[b]) %2 ==0:\n",
    "    pos[0].append(int(nums[b])) \n",
    "  elif int(nums[b]) >=0 and int(nums[b]) %2 !=0:\n",
    "    pos[1].append(int(nums[b]))\n",
    "  elif int(nums[b]) <0 and int(nums[b]) %2 ==0:\n",
    "    neg[0].append(int(nums[b]))\n",
    "  elif int(nums[b]) <0 and int(nums[b]) %2 !=0:\n",
    "    neg[1].append(int(nums[b]))\n",
    "\n",
    "  b+=1\n",
    "print(pos, neg, sep='\\n')"
   ]
  },
  {
   "cell_type": "code",
   "execution_count": null,
   "metadata": {
    "id": "3psqEkhlkAbv"
   },
   "outputs": [],
   "source": []
  },
  {
   "cell_type": "code",
   "execution_count": null,
   "metadata": {
    "id": "AWLJQzRQoPE3"
   },
   "outputs": [],
   "source": []
  },
  {
   "cell_type": "markdown",
   "metadata": {
    "id": "oeny2BSvodLP"
   },
   "source": [
    "#### controlflow statements\n",
    "* these statements are used to alter the execution of our loop statements. There aree three controlflow statements\n",
    "\n",
    "  * `pass`: it acts like a place holder for your code\n",
    "  * `continue`: it terminates the current loop iteration and runs the loop with next value\n",
    "  * `break`: it abruptly ends and exits the loop altogether."
   ]
  },
  {
   "cell_type": "code",
   "execution_count": null,
   "metadata": {
    "id": "VQqCz8O4qIvl"
   },
   "outputs": [],
   "source": []
  },
  {
   "cell_type": "markdown",
   "metadata": {
    "id": "m0RwpHZlqIbZ"
   },
   "source": [
    "##### pass"
   ]
  },
  {
   "cell_type": "code",
   "execution_count": 17,
   "metadata": {
    "colab": {
     "base_uri": "https://localhost:8080/",
     "height": 35
    },
    "executionInfo": {
     "elapsed": 558,
     "status": "ok",
     "timestamp": 1672817029179,
     "user": {
      "displayName": "Abhilash Manikanta",
      "userId": "03760544981880881787"
     },
     "user_tz": -330
    },
    "id": "vTdhYfO1oPB1",
    "outputId": "e98f9be2-3412-409d-d59e-e9cb81ef3475"
   },
   "outputs": [
    {
     "data": {
      "application/vnd.google.colaboratory.intrinsic+json": {
       "type": "string"
      },
      "text/plain": [
       "'\\n\\nif True:\\n\\n'"
      ]
     },
     "execution_count": 17,
     "metadata": {},
     "output_type": "execute_result"
    }
   ],
   "source": [
    "'''\n",
    "\n",
    "if True:\n",
    "\n",
    "''' # uncomment this to see the error"
   ]
  },
  {
   "cell_type": "code",
   "execution_count": 19,
   "metadata": {
    "executionInfo": {
     "elapsed": 3,
     "status": "ok",
     "timestamp": 1672817064716,
     "user": {
      "displayName": "Abhilash Manikanta",
      "userId": "03760544981880881787"
     },
     "user_tz": -330
    },
    "id": "M9FDrxLCoPkh"
   },
   "outputs": [],
   "source": [
    "if True:\n",
    "  pass"
   ]
  },
  {
   "cell_type": "code",
   "execution_count": null,
   "metadata": {
    "id": "9crX4r-HoO8t"
   },
   "outputs": [],
   "source": []
  },
  {
   "cell_type": "markdown",
   "metadata": {
    "id": "KYjj05jFq8yW"
   },
   "source": [
    "##### continue\n"
   ]
  },
  {
   "cell_type": "code",
   "execution_count": 22,
   "metadata": {
    "colab": {
     "base_uri": "https://localhost:8080/"
    },
    "executionInfo": {
     "elapsed": 10792,
     "status": "ok",
     "timestamp": 1672817575677,
     "user": {
      "displayName": "Abhilash Manikanta",
      "userId": "03760544981880881787"
     },
     "user_tz": -330
    },
    "id": "pcqvDvOcoOsu",
    "outputId": "5d774209-09b9-4b14-b99f-b128e749dc2d"
   },
   "outputs": [
    {
     "name": "stdout",
     "output_type": "stream",
     "text": [
      "enter the starting num 5\n",
      "enter the ending num 27\n",
      "6, 7, 8, 9, 11, 12, 13, 14, 16, 17, 18, 19, 21, 22, 23, 24, 26, 27, 28, "
     ]
    }
   ],
   "source": [
    "# wap to print all numbers except the multiples of 5, between two given numbers\n",
    "\n",
    "start, end = int(input('enter the starting num ')) -1, int(input('enter the ending num '))\n",
    "\n",
    "while start<=end:\n",
    "\n",
    "  start +=1\n",
    "  if start % 5 == 0:\n",
    "    continue\n",
    "  print(start, end = ', ')\n",
    "\n"
   ]
  },
  {
   "cell_type": "code",
   "execution_count": null,
   "metadata": {
    "id": "dqthzkZBrfRm"
   },
   "outputs": [],
   "source": []
  },
  {
   "cell_type": "markdown",
   "metadata": {
    "id": "1worlY1ks0e6"
   },
   "source": [
    "##### break"
   ]
  },
  {
   "cell_type": "code",
   "execution_count": 24,
   "metadata": {
    "colab": {
     "base_uri": "https://localhost:8080/"
    },
    "executionInfo": {
     "elapsed": 360,
     "status": "ok",
     "timestamp": 1672817732326,
     "user": {
      "displayName": "Abhilash Manikanta",
      "userId": "03760544981880881787"
     },
     "user_tz": -330
    },
    "id": "3l5TR0rQs40e",
    "outputId": "e47a4abf-ab5b-44ec-8a71-3b4efaa7a7e5"
   },
   "outputs": [
    {
     "name": "stdout",
     "output_type": "stream",
     "text": [
      "Hi\n",
      "outside the loop\n"
     ]
    }
   ],
   "source": [
    "while True:\n",
    "  print('Hi')\n",
    "  break\n",
    "print('outside the loop')"
   ]
  },
  {
   "cell_type": "code",
   "execution_count": 26,
   "metadata": {
    "colab": {
     "base_uri": "https://localhost:8080/"
    },
    "executionInfo": {
     "elapsed": 4,
     "status": "ok",
     "timestamp": 1672817921911,
     "user": {
      "displayName": "Abhilash Manikanta",
      "userId": "03760544981880881787"
     },
     "user_tz": -330
    },
    "id": "qXbpwmbAtJVl",
    "outputId": "7dfa1ab0-0f29-4c27-df5f-54bfb3bc7ef4"
   },
   "outputs": [
    {
     "name": "stdout",
     "output_type": "stream",
     "text": [
      "0\n",
      "3\n",
      "2\n",
      "1\n",
      "0\n"
     ]
    }
   ],
   "source": [
    "a = 0\n",
    "b = 3\n",
    "\n",
    "while a <=b:\n",
    "  print(a)\n",
    "\n",
    "  while b>=a:\n",
    "    print(b)\n",
    "  \n",
    "    b-=1\n",
    "\n",
    "  a+=1"
   ]
  },
  {
   "cell_type": "code",
   "execution_count": 28,
   "metadata": {
    "colab": {
     "base_uri": "https://localhost:8080/"
    },
    "executionInfo": {
     "elapsed": 3,
     "status": "ok",
     "timestamp": 1672818008546,
     "user": {
      "displayName": "Abhilash Manikanta",
      "userId": "03760544981880881787"
     },
     "user_tz": -330
    },
    "id": "9mpTvSY4twbv",
    "outputId": "296273e7-8258-470d-add8-4e5b1688c2a0"
   },
   "outputs": [
    {
     "name": "stdout",
     "output_type": "stream",
     "text": [
      "0\n",
      "3\n",
      "1\n",
      "3\n",
      "2\n",
      "3\n",
      "3\n",
      "3\n"
     ]
    }
   ],
   "source": [
    "a = 0\n",
    "b = 3\n",
    "while a <=b:\n",
    "  print(a)\n",
    "\n",
    "  while b>=a:\n",
    "    print(b)\n",
    "    break\n",
    "  \n",
    "    b-=1\n",
    "\n",
    "  a+=1"
   ]
  },
  {
   "cell_type": "code",
   "execution_count": null,
   "metadata": {
    "id": "r9YvfSx8uOfl"
   },
   "outputs": [],
   "source": []
  },
  {
   "cell_type": "markdown",
   "metadata": {
    "id": "lzadGz2hugCB"
   },
   "source": [
    "#### for loop \n",
    "* for loop keeps executing the bloc of code till it reaches the end of the iterator\n",
    "\n",
    "  * iterator: is an object which has some values, and next time we execute the loop, this value will be taken/considered\n",
    "\n",
    "* syntax of `for` loop:\n",
    "    * `for` var_name in iterator:\n",
    "        * block of code"
   ]
  },
  {
   "cell_type": "code",
   "execution_count": 30,
   "metadata": {
    "colab": {
     "base_uri": "https://localhost:8080/"
    },
    "executionInfo": {
     "elapsed": 578,
     "status": "ok",
     "timestamp": 1672818750668,
     "user": {
      "displayName": "Abhilash Manikanta",
      "userId": "03760544981880881787"
     },
     "user_tz": -330
    },
    "id": "_FNQFx8NwX7V",
    "outputId": "a5559949-8f20-437f-f930-93ae4d9b1fe2"
   },
   "outputs": [
    {
     "name": "stdout",
     "output_type": "stream",
     "text": [
      "1\n",
      "2\n",
      "3\n",
      "outside the loop\n"
     ]
    }
   ],
   "source": [
    "# lists\n",
    "x = [1,2,3]\n",
    "\n",
    "for i in x:\n",
    "  print(i)\n",
    "\n",
    "print('outside the loop')"
   ]
  },
  {
   "cell_type": "code",
   "execution_count": 31,
   "metadata": {
    "colab": {
     "base_uri": "https://localhost:8080/"
    },
    "executionInfo": {
     "elapsed": 3,
     "status": "ok",
     "timestamp": 1672818791041,
     "user": {
      "displayName": "Abhilash Manikanta",
      "userId": "03760544981880881787"
     },
     "user_tz": -330
    },
    "id": "-GaQ-0Xkw4n-",
    "outputId": "ba99fa89-7228-46f0-9b54-b24e523c277d"
   },
   "outputs": [
    {
     "name": "stdout",
     "output_type": "stream",
     "text": [
      "x\n",
      "y\n",
      "z\n",
      "outside the loop\n"
     ]
    }
   ],
   "source": [
    "# strings\n",
    "for i in 'xyz':\n",
    "  print(i)\n",
    "\n",
    "print('outside the loop')"
   ]
  },
  {
   "cell_type": "code",
   "execution_count": 32,
   "metadata": {
    "colab": {
     "base_uri": "https://localhost:8080/"
    },
    "executionInfo": {
     "elapsed": 20,
     "status": "ok",
     "timestamp": 1672818853424,
     "user": {
      "displayName": "Abhilash Manikanta",
      "userId": "03760544981880881787"
     },
     "user_tz": -330
    },
    "id": "wC20wvEIxQ1l",
    "outputId": "ce226289-65ac-453e-db8c-ca3748e7c529"
   },
   "outputs": [
    {
     "name": "stdout",
     "output_type": "stream",
     "text": [
      "key1\n",
      "key2\n",
      "outside the loop\n"
     ]
    }
   ],
   "source": [
    "# dicts\n",
    "x = {'key1':'value1',\n",
    "     'key2':'value2'}\n",
    "for i in x:\n",
    "  print(i)\n",
    "\n",
    "print('outside the loop')"
   ]
  },
  {
   "cell_type": "code",
   "execution_count": 35,
   "metadata": {
    "colab": {
     "base_uri": "https://localhost:8080/"
    },
    "executionInfo": {
     "elapsed": 4,
     "status": "ok",
     "timestamp": 1672818978092,
     "user": {
      "displayName": "Abhilash Manikanta",
      "userId": "03760544981880881787"
     },
     "user_tz": -330
    },
    "id": "d4I5AyXAxgEF",
    "outputId": "15be9b20-62c9-47e5-a0cb-46ed272bca0f"
   },
   "outputs": [
    {
     "name": "stdout",
     "output_type": "stream",
     "text": [
      "value1\n",
      "value2\n",
      "outside the loop\n"
     ]
    }
   ],
   "source": [
    "x = {'key1':'value1',\n",
    "     'key2':'value2'}\n",
    "\n",
    "for i in x.values():\n",
    "  print(i)\n",
    "\n",
    "print('outside the loop')"
   ]
  },
  {
   "cell_type": "code",
   "execution_count": 37,
   "metadata": {
    "colab": {
     "base_uri": "https://localhost:8080/"
    },
    "executionInfo": {
     "elapsed": 384,
     "status": "ok",
     "timestamp": 1672819032701,
     "user": {
      "displayName": "Abhilash Manikanta",
      "userId": "03760544981880881787"
     },
     "user_tz": -330
    },
    "id": "KhUVBuegx4hm",
    "outputId": "ffeb6e3e-a85b-424f-ce36-a01dcd470003"
   },
   "outputs": [
    {
     "name": "stdout",
     "output_type": "stream",
     "text": [
      "key1\n",
      "key2\n",
      "outside the loop\n"
     ]
    }
   ],
   "source": [
    "for i in x.keys():\n",
    "  print(i)\n",
    "\n",
    "print('outside the loop')"
   ]
  },
  {
   "cell_type": "code",
   "execution_count": 38,
   "metadata": {
    "colab": {
     "base_uri": "https://localhost:8080/"
    },
    "executionInfo": {
     "elapsed": 5,
     "status": "ok",
     "timestamp": 1672819044467,
     "user": {
      "displayName": "Abhilash Manikanta",
      "userId": "03760544981880881787"
     },
     "user_tz": -330
    },
    "id": "qNHICTIiyKTV",
    "outputId": "29bb6375-37ad-425c-be4c-49f632d0e585"
   },
   "outputs": [
    {
     "name": "stdout",
     "output_type": "stream",
     "text": [
      "('key1', 'value1')\n",
      "('key2', 'value2')\n",
      "outside the loop\n"
     ]
    }
   ],
   "source": [
    "for i in x.items():\n",
    "  print(i)\n",
    "\n",
    "print('outside the loop')"
   ]
  },
  {
   "cell_type": "code",
   "execution_count": 39,
   "metadata": {
    "colab": {
     "base_uri": "https://localhost:8080/"
    },
    "executionInfo": {
     "elapsed": 4,
     "status": "ok",
     "timestamp": 1672819103368,
     "user": {
      "displayName": "Abhilash Manikanta",
      "userId": "03760544981880881787"
     },
     "user_tz": -330
    },
    "id": "Qg-rWk4ByOuO",
    "outputId": "5fbaa50c-983e-49fc-a193-6c7d2d23e0bf"
   },
   "outputs": [
    {
     "name": "stdout",
     "output_type": "stream",
     "text": [
      "key1 value1\n",
      "key2 value2\n",
      "outside the loop\n"
     ]
    }
   ],
   "source": [
    "for i,j in x.items():\n",
    "  print(i,j)\n",
    "\n",
    "print('outside the loop')"
   ]
  },
  {
   "cell_type": "code",
   "execution_count": null,
   "metadata": {
    "id": "HvCO72f4ydAm"
   },
   "outputs": [],
   "source": []
  },
  {
   "cell_type": "code",
   "execution_count": 3,
   "metadata": {
    "colab": {
     "base_uri": "https://localhost:8080/"
    },
    "executionInfo": {
     "elapsed": 3,
     "status": "ok",
     "timestamp": 1672899658608,
     "user": {
      "displayName": "Abhilash Manikanta",
      "userId": "03760544981880881787"
     },
     "user_tz": -330
    },
    "id": "_NdH67ahlR3T",
    "outputId": "acb773e5-455e-49b0-9c34-c94b695f358c"
   },
   "outputs": [
    {
     "name": "stdout",
     "output_type": "stream",
     "text": [
      "0, 1, 2, 3, 4, 5, 6, 7, 8, 9, "
     ]
    }
   ],
   "source": [
    "i = 0\n",
    "while i in range(10):\n",
    "  print(i, end = ', ')\n",
    "  i+=1"
   ]
  },
  {
   "cell_type": "code",
   "execution_count": 4,
   "metadata": {
    "colab": {
     "base_uri": "https://localhost:8080/"
    },
    "executionInfo": {
     "elapsed": 3,
     "status": "ok",
     "timestamp": 1672899674666,
     "user": {
      "displayName": "Abhilash Manikanta",
      "userId": "03760544981880881787"
     },
     "user_tz": -330
    },
    "id": "-a1Tc4gRlR0J",
    "outputId": "16034e79-8e9a-4a7d-a4a5-f68af7199d57"
   },
   "outputs": [
    {
     "name": "stdout",
     "output_type": "stream",
     "text": [
      "0, 1, 2, 3, 4, 5, 6, 7, 8, 9, "
     ]
    }
   ],
   "source": [
    "for i in range(10):\n",
    "  print(i, end=', ')"
   ]
  },
  {
   "cell_type": "code",
   "execution_count": 8,
   "metadata": {
    "executionInfo": {
     "elapsed": 375,
     "status": "ok",
     "timestamp": 1672900619559,
     "user": {
      "displayName": "Abhilash Manikanta",
      "userId": "03760544981880881787"
     },
     "user_tz": -330
    },
    "id": "f1WfIhFqlRxM"
   },
   "outputs": [],
   "source": [
    "import time"
   ]
  },
  {
   "cell_type": "code",
   "execution_count": 10,
   "metadata": {
    "colab": {
     "base_uri": "https://localhost:8080/"
    },
    "executionInfo": {
     "elapsed": 4518,
     "status": "ok",
     "timestamp": 1672900682854,
     "user": {
      "displayName": "Abhilash Manikanta",
      "userId": "03760544981880881787"
     },
     "user_tz": -330
    },
    "id": "jOWXXimYlRum",
    "outputId": "686c974c-44a9-4620-bd23-8bdf22529f9d"
   },
   "outputs": [
    {
     "name": "stdout",
     "output_type": "stream",
     "text": [
      "enter the starting num 1\n",
      "enter the ending num 20\n",
      "3 9 15 "
     ]
    }
   ],
   "source": [
    "# odd and divisable by 3\n",
    "# for\n",
    "start, end = int(input('enter the starting num ')), int(input('enter the ending num '))\n",
    "a = time.time()\n",
    "for num in range(start, end):\n",
    "  if num%2!=0  and num%3==0:\n",
    "    print(num, end =' ') \n",
    "b = time.time()"
   ]
  },
  {
   "cell_type": "code",
   "execution_count": 9,
   "metadata": {
    "colab": {
     "base_uri": "https://localhost:8080/"
    },
    "executionInfo": {
     "elapsed": 5262,
     "status": "ok",
     "timestamp": 1672900676043,
     "user": {
      "displayName": "Abhilash Manikanta",
      "userId": "03760544981880881787"
     },
     "user_tz": -330
    },
    "id": "XhdnUZLLlRrw",
    "outputId": "fb93fc53-883f-4abe-aeac-41e5e25c00d8"
   },
   "outputs": [
    {
     "name": "stdout",
     "output_type": "stream",
     "text": [
      "enter the starting num 1\n",
      "enter the ending num 20\n",
      "3 9 15 "
     ]
    }
   ],
   "source": [
    "# odd and divisable by 3\n",
    "# while\n",
    "start, end = int(input('enter the starting num ')), int(input('enter the ending num '))\n",
    "num = start\n",
    "c = time.time()\n",
    "while num in range(start, end):\n",
    "  if num%2!=0  and num%3==0:\n",
    "    print(num, end =' ')\n",
    "  num+=1\n",
    "d = time.time()"
   ]
  },
  {
   "cell_type": "code",
   "execution_count": 12,
   "metadata": {
    "colab": {
     "base_uri": "https://localhost:8080/"
    },
    "executionInfo": {
     "elapsed": 2,
     "status": "ok",
     "timestamp": 1672900794091,
     "user": {
      "displayName": "Abhilash Manikanta",
      "userId": "03760544981880881787"
     },
     "user_tz": -330
    },
    "id": "GUHud5yplRo4",
    "outputId": "ff32d706-4df8-4367-b893-a8bdb124b5ab"
   },
   "outputs": [
    {
     "name": "stdout",
     "output_type": "stream",
     "text": [
      "while\n"
     ]
    }
   ],
   "source": [
    "if (b-a) < (d-c):\n",
    "  print('for')\n",
    "elif (b-a) > (d-c):\n",
    "  print('while')\n",
    "else:\n",
    "  print('same')"
   ]
  },
  {
   "cell_type": "code",
   "execution_count": 3,
   "metadata": {
    "id": "0_XRmCwVlRl_"
   },
   "outputs": [
    {
     "name": "stdout",
     "output_type": "stream",
     "text": [
      "Enter a word: narender\n",
      "n\n",
      "r\n",
      "e\n",
      "n\n",
      "d\n",
      "e\n",
      "r\n",
      "The end\n"
     ]
    }
   ],
   "source": [
    "\n",
    "w = input ('Enter a word: ')\n",
    "for val in w:\n",
    "    if val == \"a\":\n",
    "        continue\n",
    "    print(val)\n",
    " \n",
    "print(\"The end\")\n",
    "\n"
   ]
  },
  {
   "cell_type": "code",
   "execution_count": 4,
   "metadata": {},
   "outputs": [
    {
     "name": "stdout",
     "output_type": "stream",
     "text": [
      "Type a word that is less than 7 characters long: narender\n",
      "Letter 1 is n\n",
      "Letter 2 is a\n",
      "Letter 3 is r\n",
      "Letter 4 is e\n",
      "Letter 5 is n\n",
      "Letter 6 is d\n",
      "Letter 7 is e\n",
      "The word you have entered is more than 7 characters long!\n"
     ]
    }
   ],
   "source": [
    "\n",
    "w = input ('Type a word that is less than 7 characters long: ')\n",
    "letterNumber = 1\n",
    " \n",
    "for i in w:\n",
    "    print ('Letter', letterNumber, 'is', i)\n",
    "    letterNumber+=1\n",
    "    if letterNumber > 7:\n",
    "            print('The word you have entered is more than 7 characters long!')\n",
    "            break\n",
    "\n"
   ]
  },
  {
   "cell_type": "code",
   "execution_count": 14,
   "metadata": {
    "colab": {
     "base_uri": "https://localhost:8080/"
    },
    "executionInfo": {
     "elapsed": 3,
     "status": "ok",
     "timestamp": 1672900953308,
     "user": {
      "displayName": "Abhilash Manikanta",
      "userId": "03760544981880881787"
     },
     "user_tz": -330
    },
    "id": "ox3AHFwclRjb",
    "outputId": "992248de-d185-4966-e774-dd6ce00e1221"
   },
   "outputs": [
    {
     "name": "stdout",
     "output_type": "stream",
     "text": [
      "*\n",
      "**\n",
      "***\n",
      "****\n",
      "*****\n"
     ]
    }
   ],
   "source": [
    "# pattern prog\n",
    "for i in range(1,6):\n",
    "  for j in range(i):\n",
    "    print('*', end = '')\n",
    "  print()"
   ]
  },
  {
   "cell_type": "code",
   "execution_count": 15,
   "metadata": {
    "colab": {
     "base_uri": "https://localhost:8080/"
    },
    "executionInfo": {
     "elapsed": 3,
     "status": "ok",
     "timestamp": 1672900993869,
     "user": {
      "displayName": "Abhilash Manikanta",
      "userId": "03760544981880881787"
     },
     "user_tz": -330
    },
    "id": "5xfqRqmblRge",
    "outputId": "eedc8278-b2b8-4bc9-86b1-d5453aaf36be"
   },
   "outputs": [
    {
     "name": "stdout",
     "output_type": "stream",
     "text": [
      "*\n",
      "**\n",
      "***\n",
      "****\n",
      "*****\n"
     ]
    }
   ],
   "source": [
    "for i in range(1,6):\n",
    "  print('*'*i)"
   ]
  },
  {
   "cell_type": "code",
   "execution_count": 5,
   "metadata": {
    "id": "CM15uLTjq15Q"
   },
   "outputs": [
    {
     "name": "stdout",
     "output_type": "stream",
     "text": [
      "Enter a number: 8\n",
      "1\n",
      "2\n",
      "3\n",
      "4\n",
      "5\n",
      "6\n",
      "7\n",
      "Enter a number: 5\n",
      "1\n",
      "2\n",
      "3\n",
      "4\n",
      "Enter a number: 3\n",
      "1\n",
      "2\n"
     ]
    },
    {
     "ename": "KeyboardInterrupt",
     "evalue": "Interrupted by user",
     "output_type": "error",
     "traceback": [
      "\u001b[1;31m---------------------------------------------------------------------------\u001b[0m",
      "\u001b[1;31mKeyboardInterrupt\u001b[0m                         Traceback (most recent call last)",
      "\u001b[1;32m~\\AppData\\Local\\Temp\\ipykernel_17500\\2841376778.py\u001b[0m in \u001b[0;36m<module>\u001b[1;34m\u001b[0m\n\u001b[0;32m      4\u001b[0m         \u001b[0mprint\u001b[0m \u001b[1;33m(\u001b[0m\u001b[0mq\u001b[0m\u001b[1;33m)\u001b[0m\u001b[1;33m\u001b[0m\u001b[1;33m\u001b[0m\u001b[0m\n\u001b[0;32m      5\u001b[0m         \u001b[0mq\u001b[0m\u001b[1;33m+=\u001b[0m\u001b[1;36m1\u001b[0m\u001b[1;33m\u001b[0m\u001b[1;33m\u001b[0m\u001b[0m\n\u001b[1;32m----> 6\u001b[1;33m     \u001b[0mp\u001b[0m \u001b[1;33m=\u001b[0m \u001b[0mint\u001b[0m\u001b[1;33m(\u001b[0m\u001b[0minput\u001b[0m\u001b[1;33m(\u001b[0m\u001b[1;34m'Enter a number: '\u001b[0m\u001b[1;33m)\u001b[0m\u001b[1;33m)\u001b[0m\u001b[1;33m\u001b[0m\u001b[1;33m\u001b[0m\u001b[0m\n\u001b[0m\u001b[0;32m      7\u001b[0m \u001b[1;33m\u001b[0m\u001b[0m\n",
      "\u001b[1;32m~\\anaconda3\\lib\\site-packages\\ipykernel\\kernelbase.py\u001b[0m in \u001b[0;36mraw_input\u001b[1;34m(self, prompt)\u001b[0m\n\u001b[0;32m   1175\u001b[0m                 \u001b[1;34m\"raw_input was called, but this frontend does not support input requests.\"\u001b[0m\u001b[1;33m\u001b[0m\u001b[1;33m\u001b[0m\u001b[0m\n\u001b[0;32m   1176\u001b[0m             )\n\u001b[1;32m-> 1177\u001b[1;33m         return self._input_request(\n\u001b[0m\u001b[0;32m   1178\u001b[0m             \u001b[0mstr\u001b[0m\u001b[1;33m(\u001b[0m\u001b[0mprompt\u001b[0m\u001b[1;33m)\u001b[0m\u001b[1;33m,\u001b[0m\u001b[1;33m\u001b[0m\u001b[1;33m\u001b[0m\u001b[0m\n\u001b[0;32m   1179\u001b[0m             \u001b[0mself\u001b[0m\u001b[1;33m.\u001b[0m\u001b[0m_parent_ident\u001b[0m\u001b[1;33m[\u001b[0m\u001b[1;34m\"shell\"\u001b[0m\u001b[1;33m]\u001b[0m\u001b[1;33m,\u001b[0m\u001b[1;33m\u001b[0m\u001b[1;33m\u001b[0m\u001b[0m\n",
      "\u001b[1;32m~\\anaconda3\\lib\\site-packages\\ipykernel\\kernelbase.py\u001b[0m in \u001b[0;36m_input_request\u001b[1;34m(self, prompt, ident, parent, password)\u001b[0m\n\u001b[0;32m   1217\u001b[0m             \u001b[1;32mexcept\u001b[0m \u001b[0mKeyboardInterrupt\u001b[0m\u001b[1;33m:\u001b[0m\u001b[1;33m\u001b[0m\u001b[1;33m\u001b[0m\u001b[0m\n\u001b[0;32m   1218\u001b[0m                 \u001b[1;31m# re-raise KeyboardInterrupt, to truncate traceback\u001b[0m\u001b[1;33m\u001b[0m\u001b[1;33m\u001b[0m\u001b[0m\n\u001b[1;32m-> 1219\u001b[1;33m                 \u001b[1;32mraise\u001b[0m \u001b[0mKeyboardInterrupt\u001b[0m\u001b[1;33m(\u001b[0m\u001b[1;34m\"Interrupted by user\"\u001b[0m\u001b[1;33m)\u001b[0m \u001b[1;32mfrom\u001b[0m \u001b[1;32mNone\u001b[0m\u001b[1;33m\u001b[0m\u001b[1;33m\u001b[0m\u001b[0m\n\u001b[0m\u001b[0;32m   1220\u001b[0m             \u001b[1;32mexcept\u001b[0m \u001b[0mException\u001b[0m\u001b[1;33m:\u001b[0m\u001b[1;33m\u001b[0m\u001b[1;33m\u001b[0m\u001b[0m\n\u001b[0;32m   1221\u001b[0m                 \u001b[0mself\u001b[0m\u001b[1;33m.\u001b[0m\u001b[0mlog\u001b[0m\u001b[1;33m.\u001b[0m\u001b[0mwarning\u001b[0m\u001b[1;33m(\u001b[0m\u001b[1;34m\"Invalid Message:\"\u001b[0m\u001b[1;33m,\u001b[0m \u001b[0mexc_info\u001b[0m\u001b[1;33m=\u001b[0m\u001b[1;32mTrue\u001b[0m\u001b[1;33m)\u001b[0m\u001b[1;33m\u001b[0m\u001b[1;33m\u001b[0m\u001b[0m\n",
      "\u001b[1;31mKeyboardInterrupt\u001b[0m: Interrupted by user"
     ]
    }
   ],
   "source": [
    "\n",
    "p = int(input('Enter a number: '))\n",
    "while p != 0:\n",
    "    for q in range (1, p):\n",
    "        print (q)\n",
    "        q+=1\n",
    "    p = int(input('Enter a number: '))\n",
    "\n"
   ]
  },
  {
   "cell_type": "code",
   "execution_count": 6,
   "metadata": {},
   "outputs": [
    {
     "name": "stdout",
     "output_type": "stream",
     "text": [
      "0 1 2 3 4 5 6 7\n",
      "8\n",
      "9\n",
      "10\n",
      "11\n",
      "12\n",
      "13\n",
      "14\n"
     ]
    }
   ],
   "source": [
    "\n",
    "for n in range(15):\n",
    "    print(n, end=(' ' if n < 7 else '\\n'))\n"
   ]
  },
  {
   "cell_type": "code",
   "execution_count": null,
   "metadata": {},
   "outputs": [],
   "source": []
  }
 ],
 "metadata": {
  "colab": {
   "authorship_tag": "ABX9TyNNFBqlmy8zssVRPJsi5jn+",
   "provenance": []
  },
  "kernelspec": {
   "display_name": "Python 3 (ipykernel)",
   "language": "python",
   "name": "python3"
  },
  "language_info": {
   "codemirror_mode": {
    "name": "ipython",
    "version": 3
   },
   "file_extension": ".py",
   "mimetype": "text/x-python",
   "name": "python",
   "nbconvert_exporter": "python",
   "pygments_lexer": "ipython3",
   "version": "3.9.13"
  }
 },
 "nbformat": 4,
 "nbformat_minor": 1
}
